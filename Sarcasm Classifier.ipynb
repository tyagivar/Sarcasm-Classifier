{
 "cells": [
  {
   "cell_type": "markdown",
   "metadata": {},
   "source": [
    "# Sarcasm Classifier"
   ]
  },
  {
   "cell_type": "code",
   "execution_count": 1,
   "metadata": {},
   "outputs": [],
   "source": [
    "import pandas as pd\n",
    "import numpy as np\n",
    "import sklearn"
   ]
  },
  {
   "cell_type": "code",
   "execution_count": 2,
   "metadata": {},
   "outputs": [],
   "source": [
    "df_sarcasm = pd.read_csv('reddit_sarcasm.csv')\n",
    "df_non_sarcasm = pd.read_csv('reddit_serious.csv')"
   ]
  },
  {
   "cell_type": "code",
   "execution_count": 3,
   "metadata": {
    "collapsed": true
   },
   "outputs": [
    {
     "data": {
      "text/html": [
       "<div>\n",
       "<style scoped>\n",
       "    .dataframe tbody tr th:only-of-type {\n",
       "        vertical-align: middle;\n",
       "    }\n",
       "\n",
       "    .dataframe tbody tr th {\n",
       "        vertical-align: top;\n",
       "    }\n",
       "\n",
       "    .dataframe thead th {\n",
       "        text-align: right;\n",
       "    }\n",
       "</style>\n",
       "<table border=\"1\" class=\"dataframe\">\n",
       "  <thead>\n",
       "    <tr style=\"text-align: right;\">\n",
       "      <th></th>\n",
       "      <th>S.No</th>\n",
       "      <th>Text</th>\n",
       "    </tr>\n",
       "  </thead>\n",
       "  <tbody>\n",
       "    <tr>\n",
       "      <th>0</th>\n",
       "      <td>0</td>\n",
       "      <td>\"Having sex with my girlfriend at least 5 time...</td>\n",
       "    </tr>\n",
       "    <tr>\n",
       "      <th>1</th>\n",
       "      <td>1</td>\n",
       "      <td>\"Awesome case, plus those blue LEDs make your ...</td>\n",
       "    </tr>\n",
       "    <tr>\n",
       "      <th>2</th>\n",
       "      <td>2</td>\n",
       "      <td>\"I don't know man. [This](http://www.reddit.co...</td>\n",
       "    </tr>\n",
       "    <tr>\n",
       "      <th>3</th>\n",
       "      <td>3</td>\n",
       "      <td>\"because he is famous  Edit: oh yeah /s\"</td>\n",
       "    </tr>\n",
       "    <tr>\n",
       "      <th>4</th>\n",
       "      <td>4</td>\n",
       "      <td>\"&amp;gt; My deputies did their job to the fullest...</td>\n",
       "    </tr>\n",
       "  </tbody>\n",
       "</table>\n",
       "</div>"
      ],
      "text/plain": [
       "   S.No                                               Text\n",
       "0     0  \"Having sex with my girlfriend at least 5 time...\n",
       "1     1  \"Awesome case, plus those blue LEDs make your ...\n",
       "2     2  \"I don't know man. [This](http://www.reddit.co...\n",
       "3     3           \"because he is famous  Edit: oh yeah /s\"\n",
       "4     4  \"&gt; My deputies did their job to the fullest..."
      ]
     },
     "execution_count": 3,
     "metadata": {},
     "output_type": "execute_result"
    }
   ],
   "source": [
    "df_sarcasm.head()"
   ]
  },
  {
   "cell_type": "code",
   "execution_count": 4,
   "metadata": {
    "collapsed": true
   },
   "outputs": [
    {
     "data": {
      "text/html": [
       "<div>\n",
       "<style scoped>\n",
       "    .dataframe tbody tr th:only-of-type {\n",
       "        vertical-align: middle;\n",
       "    }\n",
       "\n",
       "    .dataframe tbody tr th {\n",
       "        vertical-align: top;\n",
       "    }\n",
       "\n",
       "    .dataframe thead th {\n",
       "        text-align: right;\n",
       "    }\n",
       "</style>\n",
       "<table border=\"1\" class=\"dataframe\">\n",
       "  <thead>\n",
       "    <tr style=\"text-align: right;\">\n",
       "      <th></th>\n",
       "      <th>S.No</th>\n",
       "      <th>Text</th>\n",
       "    </tr>\n",
       "  </thead>\n",
       "  <tbody>\n",
       "    <tr>\n",
       "      <th>0</th>\n",
       "      <td>0</td>\n",
       "      <td>\"くそ 読みたいが買ったら負けな気がする 図書館に出ねーかな\"</td>\n",
       "    </tr>\n",
       "    <tr>\n",
       "      <th>1</th>\n",
       "      <td>1</td>\n",
       "      <td>\"gg this one's over. off to watch the NFL draf...</td>\n",
       "    </tr>\n",
       "    <tr>\n",
       "      <th>2</th>\n",
       "      <td>2</td>\n",
       "      <td>\"Are you really implying we return to those ti...</td>\n",
       "    </tr>\n",
       "    <tr>\n",
       "      <th>3</th>\n",
       "      <td>3</td>\n",
       "      <td>\"No one has a European accent either  because ...</td>\n",
       "    </tr>\n",
       "    <tr>\n",
       "      <th>4</th>\n",
       "      <td>4</td>\n",
       "      <td>\"That the kid \"..reminds me of Kevin.\"   so sa...</td>\n",
       "    </tr>\n",
       "  </tbody>\n",
       "</table>\n",
       "</div>"
      ],
      "text/plain": [
       "   S.No                                               Text\n",
       "0     0                    \"くそ 読みたいが買ったら負けな気がする 図書館に出ねーかな\"\n",
       "1     1  \"gg this one's over. off to watch the NFL draf...\n",
       "2     2  \"Are you really implying we return to those ti...\n",
       "3     3  \"No one has a European accent either  because ...\n",
       "4     4  \"That the kid \"..reminds me of Kevin.\"   so sa..."
      ]
     },
     "execution_count": 4,
     "metadata": {},
     "output_type": "execute_result"
    }
   ],
   "source": [
    "df_non_sarcasm.head()"
   ]
  },
  {
   "cell_type": "code",
   "execution_count": 5,
   "metadata": {},
   "outputs": [],
   "source": [
    "del df_sarcasm['S.No']\n",
    "del df_non_sarcasm['S.No']"
   ]
  },
  {
   "cell_type": "code",
   "execution_count": 6,
   "metadata": {},
   "outputs": [],
   "source": [
    "X_sarcasm=df_sarcasm['Text']\n",
    "X_non_sarcasm=df_non_sarcasm['Text']"
   ]
  },
  {
   "cell_type": "markdown",
   "metadata": {},
   "source": [
    "# Text Preprocessing"
   ]
  },
  {
   "cell_type": "code",
   "execution_count": 7,
   "metadata": {
    "scrolled": true
   },
   "outputs": [
    {
     "name": "stdout",
     "output_type": "stream",
     "text": [
      "\"Having sex with my girlfriend at least 5 times a day is my main escape. I am FA because I would like a second girlfriend for regular threesomes but she doesn't want to. /s\"\n",
      "\n",
      "\n",
      "\"くそ 読みたいが買ったら負けな気がする 図書館に出ねーかな\"\n"
     ]
    }
   ],
   "source": [
    "print(X_sarcasm[0])\n",
    "print(\"\\n\")\n",
    "print(X_non_sarcasm[0])"
   ]
  },
  {
   "cell_type": "code",
   "execution_count": 8,
   "metadata": {},
   "outputs": [],
   "source": [
    "# Removing quotes at the beginning and end of text"
   ]
  },
  {
   "cell_type": "code",
   "execution_count": 9,
   "metadata": {},
   "outputs": [],
   "source": [
    "X_sarcasm=X_sarcasm.apply(lambda s:s.strip('\\'\"'))\n",
    "X_non_sarcasm=X_non_sarcasm.apply(lambda s:s.strip('\\'\"'))"
   ]
  },
  {
   "cell_type": "code",
   "execution_count": 10,
   "metadata": {},
   "outputs": [],
   "source": [
    "# Removing ' /s' at the end of sentences"
   ]
  },
  {
   "cell_type": "code",
   "execution_count": 11,
   "metadata": {},
   "outputs": [],
   "source": [
    "X_sarcasm=X_sarcasm.apply(lambda s:s.replace(' /s',''))"
   ]
  },
  {
   "cell_type": "code",
   "execution_count": 12,
   "metadata": {},
   "outputs": [],
   "source": [
    "# Removing URL's from the text"
   ]
  },
  {
   "cell_type": "code",
   "execution_count": 17,
   "metadata": {},
   "outputs": [],
   "source": [
    "import re as re\n",
    "X_sarcasm=X_sarcasm.apply(lambda s:re.sub(r'http\\S+', '', s))\n",
    "X_non_sarcasm=X_non_sarcasm.apply(lambda s:re.sub(r'http\\S+', '', s))"
   ]
  },
  {
   "cell_type": "code",
   "execution_count": 18,
   "metadata": {},
   "outputs": [],
   "source": [
    "# Removing words starting with '@' and '/u/' to remove tagged people"
   ]
  },
  {
   "cell_type": "code",
   "execution_count": 19,
   "metadata": {},
   "outputs": [],
   "source": [
    "X_sarcasm=X_sarcasm.apply(lambda s:\" \".join(filter(lambda s:s[0]!='@', s.split())))\n",
    "X_sarcasm=X_sarcasm.apply(lambda s:\" \".join(filter(lambda s:(s[0]!='/'), s.split())))\n",
    "X_sarcasm=X_sarcasm.apply(lambda s:\" \".join(s.split()))\n",
    "\n",
    "X_non_sarcasm=X_non_sarcasm.apply(lambda s:\" \".join(filter(lambda s:s[0]!='@', s.split())))\n",
    "X_non_sarcasm=X_non_sarcasm.apply(lambda s:\" \".join(filter(lambda s:(s[0]!='/'), s.split())))\n",
    "X_non_sarcasm=X_non_sarcasm.apply(lambda s:\" \".join(s.split()))"
   ]
  },
  {
   "cell_type": "code",
   "execution_count": 20,
   "metadata": {
    "code_folding": []
   },
   "outputs": [],
   "source": [
    "# Removing texts having less than 2 words"
   ]
  },
  {
   "cell_type": "code",
   "execution_count": 21,
   "metadata": {},
   "outputs": [],
   "source": [
    "def length_greater_than_two(text):\n",
    "    if(len(text.split()) > 2):\n",
    "        return True\n",
    "    else:\n",
    "        return False"
   ]
  },
  {
   "cell_type": "code",
   "execution_count": 22,
   "metadata": {},
   "outputs": [],
   "source": [
    "X_sarcasm=[x for x in X_sarcasm if(length_greater_than_two(x))]\n",
    "X_non_sarcasm=[x for x in X_non_sarcasm if(length_greater_than_two(x))]"
   ]
  },
  {
   "cell_type": "code",
   "execution_count": 23,
   "metadata": {},
   "outputs": [],
   "source": [
    "# Removing bad symbols and special characters"
   ]
  },
  {
   "cell_type": "code",
   "execution_count": 24,
   "metadata": {},
   "outputs": [],
   "source": [
    "REPLACE_BY_SPACE_RE = re.compile('[/(){}\\[\\]\\|@,;]')\n",
    "BAD_SYMBOLS_RE = re.compile('[^0-9a-zA-Z !\"]')\n",
    "REMOVE_NON_ASCII=re.compile(r'[^\\x00-\\x7F]+')\n",
    "\n",
    "def text_prepare(text):\n",
    "    text=re.sub(REPLACE_BY_SPACE_RE,' ',text)\n",
    "    text=re.sub(BAD_SYMBOLS_RE,'',text)\n",
    "    text=re.sub(REMOVE_NON_ASCII,'',text)\n",
    "    text=' '.join(text.split())\n",
    "    return text"
   ]
  },
  {
   "cell_type": "code",
   "execution_count": 25,
   "metadata": {},
   "outputs": [],
   "source": [
    "X_sarcasm = [text_prepare(x) for x in X_sarcasm]\n",
    "X_non_sarcasm= [text_prepare(x) for x in X_non_sarcasm]"
   ]
  },
  {
   "cell_type": "code",
   "execution_count": 26,
   "metadata": {},
   "outputs": [],
   "source": [
    "# Removing non-english rows"
   ]
  },
  {
   "cell_type": "code",
   "execution_count": 27,
   "metadata": {},
   "outputs": [
    {
     "name": "stdout",
     "output_type": "stream",
     "text": [
      "[nltk_data] Downloading package words to C:\\Users\\varun\n",
      "[nltk_data]     tyagi\\AppData\\Roaming\\nltk_data...\n",
      "[nltk_data]   Unzipping corpora\\words.zip.\n",
      "[nltk_data] Downloading package wordnet to C:\\Users\\varun\n",
      "[nltk_data]     tyagi\\AppData\\Roaming\\nltk_data...\n",
      "[nltk_data]   Unzipping corpora\\wordnet.zip.\n"
     ]
    }
   ],
   "source": [
    "import nltk\n",
    "nltk.download('words')\n",
    "nltk.download('wordnet')\n",
    "from nltk.corpus import words\n",
    "english_words=[w for w in words.words('en')]"
   ]
  },
  {
   "cell_type": "code",
   "execution_count": 28,
   "metadata": {
    "code_folding": []
   },
   "outputs": [],
   "source": [
    "def is_a_english_text(text):\n",
    "    countFalse=0\n",
    "    text_list=text.split()\n",
    "    for i in range(len(text_list)):\n",
    "        if (text_list[i].lower() not in english_words):\n",
    "            countFalse=countFalse+1       \n",
    "    if(countFalse==len(text_list)):\n",
    "        return False\n",
    "    else:\n",
    "        return True"
   ]
  },
  {
   "cell_type": "code",
   "execution_count": 29,
   "metadata": {},
   "outputs": [],
   "source": [
    "X_sarcasm = [x for x in X_sarcasm if(is_a_english_text(x)==True)]\n",
    "X_non_sarcasm = [x for x in X_non_sarcasm if(is_a_english_text(x)==True)]"
   ]
  },
  {
   "cell_type": "code",
   "execution_count": 30,
   "metadata": {},
   "outputs": [],
   "source": [
    "#Lowecasing the texts which are not strictly in CAPITALS"
   ]
  },
  {
   "cell_type": "code",
   "execution_count": 31,
   "metadata": {},
   "outputs": [],
   "source": [
    "def lowercase_text(text):\n",
    "    text_list=text.split()\n",
    "    for i in range(len(text_list)):\n",
    "        if(not(text_list[i].isupper())):\n",
    "            text_list[i]=text_list[i].lower()\n",
    "    return ' '.join(text_list)"
   ]
  },
  {
   "cell_type": "code",
   "execution_count": 32,
   "metadata": {},
   "outputs": [],
   "source": [
    "X_sarcasm = [lowercase_text(x) for x in X_sarcasm ]\n",
    "X_non_sarcasm = [lowercase_text(x) for x in X_non_sarcasm ]"
   ]
  },
  {
   "cell_type": "code",
   "execution_count": 33,
   "metadata": {},
   "outputs": [],
   "source": [
    "#Lemmatizing the text"
   ]
  },
  {
   "cell_type": "code",
   "execution_count": 34,
   "metadata": {},
   "outputs": [],
   "source": [
    "from nltk.stem import WordNetLemmatizer\n",
    "lemmatizer=WordNetLemmatizer()\n",
    "\n",
    "def lemmatize(text):\n",
    "    text_list=text.split()\n",
    "    for i in range(len(text_list)):\n",
    "        text_list[i]=lemmatizer.lemmatize(text_list[i])\n",
    "    return ' '.join(text_list)"
   ]
  },
  {
   "cell_type": "code",
   "execution_count": 35,
   "metadata": {},
   "outputs": [],
   "source": [
    "X_sarcasm = [lemmatize(x) for x in X_sarcasm]\n",
    "X_non_sarcasm = [lemmatize(x) for x in X_non_sarcasm]"
   ]
  },
  {
   "cell_type": "code",
   "execution_count": 36,
   "metadata": {},
   "outputs": [],
   "source": [
    "#Removing stopwords from text"
   ]
  },
  {
   "cell_type": "code",
   "execution_count": 37,
   "metadata": {},
   "outputs": [
    {
     "name": "stdout",
     "output_type": "stream",
     "text": [
      "[nltk_data] Downloading package stopwords to C:\\Users\\varun\n",
      "[nltk_data]     tyagi\\AppData\\Roaming\\nltk_data...\n",
      "[nltk_data]   Unzipping corpora\\stopwords.zip.\n"
     ]
    }
   ],
   "source": [
    "nltk.download('stopwords')\n",
    "from nltk.corpus import stopwords\n",
    "STOPWORDS = set(stopwords.words('english'))"
   ]
  },
  {
   "cell_type": "code",
   "execution_count": 38,
   "metadata": {},
   "outputs": [],
   "source": [
    "def remove_stopwords(text):\n",
    "    return ' '.join([word for word in text.split() if word not in STOPWORDS])"
   ]
  },
  {
   "cell_type": "code",
   "execution_count": 39,
   "metadata": {},
   "outputs": [],
   "source": [
    "X_sarcasm = [remove_stopwords(x) for x in X_sarcasm]\n",
    "X_non_sarcasm = [remove_stopwords(x) for x in X_non_sarcasm]"
   ]
  },
  {
   "cell_type": "code",
   "execution_count": 40,
   "metadata": {},
   "outputs": [],
   "source": [
    "#Creating a final clean, processed and shuffled dataset"
   ]
  },
  {
   "cell_type": "code",
   "execution_count": 41,
   "metadata": {},
   "outputs": [
    {
     "name": "stdout",
     "output_type": "stream",
     "text": [
      "No. of non-sarcastic datapoints: 8477\n",
      "No. of sarcastic datapoints: 9591\n"
     ]
    }
   ],
   "source": [
    "print (\"No. of non-sarcastic datapoints: %d\" %(len(X_non_sarcasm)))\n",
    "print (\"No. of sarcastic datapoints: %d\" %(len(X_sarcasm)))"
   ]
  },
  {
   "cell_type": "code",
   "execution_count": 42,
   "metadata": {},
   "outputs": [],
   "source": [
    "sarcasm_dataset=pd.DataFrame({'text':X_sarcasm})\n",
    "sarcasm_dataset['label']=1"
   ]
  },
  {
   "cell_type": "code",
   "execution_count": 43,
   "metadata": {},
   "outputs": [],
   "source": [
    "non_sarcams_dataset=pd.DataFrame({'text':X_non_sarcasm})\n",
    "non_sarcams_dataset['label']=0"
   ]
  },
  {
   "cell_type": "code",
   "execution_count": 44,
   "metadata": {},
   "outputs": [],
   "source": [
    "final_dataset=sarcasm_dataset.append(non_sarcams_dataset,ignore_index=True)"
   ]
  },
  {
   "cell_type": "code",
   "execution_count": 93,
   "metadata": {},
   "outputs": [],
   "source": [
    "final_dataset['text'].replace('',np.nan,inplace=True)\n",
    "final_dataset.dropna(subset=['text'],inplace=True)"
   ]
  },
  {
   "cell_type": "code",
   "execution_count": 98,
   "metadata": {},
   "outputs": [],
   "source": [
    "final_dataset=final_dataset.sample(frac=1).reset_index(drop=True)"
   ]
  },
  {
   "cell_type": "code",
   "execution_count": 100,
   "metadata": {},
   "outputs": [],
   "source": [
    "final_dataset.to_csv('final_dataset.csv')"
   ]
  },
  {
   "cell_type": "code",
   "execution_count": 101,
   "metadata": {},
   "outputs": [],
   "source": [
    "X=final_dataset['text']\n",
    "Y=final_dataset['label']"
   ]
  },
  {
   "cell_type": "code",
   "execution_count": 102,
   "metadata": {},
   "outputs": [],
   "source": [
    "#Splitting data into training and test data"
   ]
  },
  {
   "cell_type": "code",
   "execution_count": 103,
   "metadata": {},
   "outputs": [],
   "source": [
    "from sklearn.model_selection import train_test_split"
   ]
  },
  {
   "cell_type": "code",
   "execution_count": 104,
   "metadata": {},
   "outputs": [],
   "source": [
    "X_train, X_test, Y_train, Y_test = train_test_split(X, Y, test_size=0.2, random_state=42)"
   ]
  },
  {
   "cell_type": "code",
   "execution_count": 114,
   "metadata": {},
   "outputs": [],
   "source": [
    "X_train=list(X_train)\n",
    "X_test=list(X_test)\n",
    "Y_train=list(Y_train)\n",
    "Y_test=list(Y_test)"
   ]
  },
  {
   "cell_type": "markdown",
   "metadata": {},
   "source": [
    "# Feature Extraction"
   ]
  },
  {
   "cell_type": "code",
   "execution_count": 937,
   "metadata": {},
   "outputs": [],
   "source": [
    "from sklearn.base import BaseEstimator, TransformerMixin\n",
    "import scipy.sparse as ss"
   ]
  },
  {
   "cell_type": "code",
   "execution_count": 459,
   "metadata": {},
   "outputs": [],
   "source": [
    "#Creating Tf-Idf Matrix"
   ]
  },
  {
   "cell_type": "code",
   "execution_count": 115,
   "metadata": {},
   "outputs": [],
   "source": [
    "from sklearn.feature_extraction.text import TfidfVectorizer"
   ]
  },
  {
   "cell_type": "code",
   "execution_count": 116,
   "metadata": {},
   "outputs": [],
   "source": [
    "def tokenizer_function(text):\n",
    "    return text.split()"
   ]
  },
  {
   "cell_type": "code",
   "execution_count": 794,
   "metadata": {},
   "outputs": [],
   "source": [
    "def tfidf_features(X_train):\n",
    "    \n",
    "    tfidf_vectorizer = TfidfVectorizer(max_df=0.9,analyzer='word',tokenizer=tokenizer_function,ngram_range=(1,2))\n",
    "    X_train=tfidf_vectorizer.fit_transform(X_train)\n",
    "    \n",
    "    return X_train"
   ]
  },
  {
   "cell_type": "code",
   "execution_count": 795,
   "metadata": {},
   "outputs": [],
   "source": [
    "tfidf_train= tfidf_features(X_train)"
   ]
  },
  {
   "cell_type": "code",
   "execution_count": 796,
   "metadata": {},
   "outputs": [
    {
     "data": {
      "text/plain": [
       "(14448, 175153)"
      ]
     },
     "execution_count": 796,
     "metadata": {},
     "output_type": "execute_result"
    }
   ],
   "source": [
    "tfidf_train.shape"
   ]
  },
  {
   "cell_type": "code",
   "execution_count": 458,
   "metadata": {},
   "outputs": [],
   "source": [
    "#Creating Sentiment Contrast Matrix"
   ]
  },
  {
   "cell_type": "code",
   "execution_count": 345,
   "metadata": {},
   "outputs": [
    {
     "name": "stdout",
     "output_type": "stream",
     "text": [
      "[nltk_data] Downloading package punkt to C:\\Users\\varun\n",
      "[nltk_data]     tyagi\\AppData\\Roaming\\nltk_data...\n",
      "[nltk_data]   Package punkt is already up-to-date!\n",
      "[nltk_data] Downloading package averaged_perceptron_tagger to\n",
      "[nltk_data]     C:\\Users\\varun tyagi\\AppData\\Roaming\\nltk_data...\n",
      "[nltk_data]   Unzipping taggers\\averaged_perceptron_tagger.zip.\n"
     ]
    },
    {
     "data": {
      "text/plain": [
       "True"
      ]
     },
     "execution_count": 345,
     "metadata": {},
     "output_type": "execute_result"
    }
   ],
   "source": [
    "from textblob import TextBlob\n",
    "nltk.download('punkt')\n",
    "nltk.download('averaged_perceptron_tagger')"
   ]
  },
  {
   "cell_type": "code",
   "execution_count": 1102,
   "metadata": {},
   "outputs": [],
   "source": [
    "class sentiment_contrast_score(BaseEstimator, TransformerMixin):\n",
    "    def __init__(self):\n",
    "        pass\n",
    "    \n",
    "    def score(self,text):\n",
    "        length=len(text.split())\n",
    "        words=text.split()\n",
    "        if(length<=1):\n",
    "            return 0\n",
    "        else:\n",
    "            score_first_half=0\n",
    "            score_second_half=0\n",
    "            text1=[]\n",
    "            text2=[]\n",
    "            for i in range (length):\n",
    "                if(i<length/2):\n",
    "                    text1.append(words[i])\n",
    "                else:\n",
    "                    text2.append(words[i])\n",
    "            text1=' '.join(text1)\n",
    "            text2=' '.join(text2)\n",
    "            score_first_half=TextBlob(text1).sentiment.polarity\n",
    "            score_second_half=TextBlob(text2).sentiment.polarity\n",
    "            return abs(score_first_half-score_second_half)\n",
    "        \n",
    "    def transform(self, X): \n",
    "        return ss.csr_matrix([self.score(x) for x in X]).T\n",
    "    \n",
    "    def fit(self, df, y=None):\n",
    "        return self\n",
    "    \n",
    "    def get_feature_names(self):\n",
    "        return ['sentiment_contrast_score']"
   ]
  },
  {
   "cell_type": "code",
   "execution_count": 921,
   "metadata": {},
   "outputs": [],
   "source": [
    "#Creating Interjection Word Start Matrix"
   ]
  },
  {
   "cell_type": "code",
   "execution_count": 905,
   "metadata": {},
   "outputs": [
    {
     "name": "stdout",
     "output_type": "stream",
     "text": [
      "[nltk_data] Downloading package brown to C:\\Users\\varun\n",
      "[nltk_data]     tyagi\\AppData\\Roaming\\nltk_data...\n",
      "[nltk_data]   Package brown is already up-to-date!\n",
      "[nltk_data] Downloading package nps_chat to C:\\Users\\varun\n",
      "[nltk_data]     tyagi\\AppData\\Roaming\\nltk_data...\n",
      "[nltk_data]   Package nps_chat is already up-to-date!\n"
     ]
    },
    {
     "data": {
      "text/plain": [
       "True"
      ]
     },
     "execution_count": 905,
     "metadata": {},
     "output_type": "execute_result"
    }
   ],
   "source": [
    "nltk.download('brown')\n",
    "nltk.download('nps_chat')"
   ]
  },
  {
   "cell_type": "code",
   "execution_count": 908,
   "metadata": {},
   "outputs": [],
   "source": [
    "chat_tag_dict=dict(nltk.corpus.nps_chat.tagged_words())"
   ]
  },
  {
   "cell_type": "code",
   "execution_count": 1101,
   "metadata": {},
   "outputs": [],
   "source": [
    "class starts_with_interjection(BaseEstimator, TransformerMixin):\n",
    "    def __init__(self):\n",
    "        pass\n",
    "    \n",
    "    def is_interjection(self,text):\n",
    "        words=nltk.word_tokenize(text)\n",
    "        if(chat_tag_dict.get(words[0])=='UH'):\n",
    "            return 1\n",
    "        else:\n",
    "            return 0\n",
    "    \n",
    "    def transform(self, X): \n",
    "        return ss.csr_matrix([self.is_interjection(x) for x in X]).T\n",
    "    \n",
    "    def fit(self, df, y=None):\n",
    "        return self\n",
    "    \n",
    "    def get_feature_names(self):\n",
    "        return ['is_interjection']"
   ]
  },
  {
   "cell_type": "markdown",
   "metadata": {},
   "source": [
    "# Classification Using Features"
   ]
  },
  {
   "cell_type": "code",
   "execution_count": 1246,
   "metadata": {},
   "outputs": [],
   "source": [
    "from sklearn.pipeline import Pipeline\n",
    "from sklearn.pipeline import FeatureUnion\n",
    "from sklearn.linear_model import LogisticRegression\n",
    "from sklearn import svm\n",
    "from sklearn.metrics import f1_score\n",
    "from sklearn.metrics import roc_auc_score"
   ]
  },
  {
   "cell_type": "markdown",
   "metadata": {},
   "source": [
    "# Using only tf-idf vectorizer"
   ]
  },
  {
   "cell_type": "code",
   "execution_count": 1005,
   "metadata": {},
   "outputs": [],
   "source": [
    "# Logistic Regression Model"
   ]
  },
  {
   "cell_type": "code",
   "execution_count": 1181,
   "metadata": {},
   "outputs": [],
   "source": [
    "pipeLine_tfidf_logistic_regression = Pipeline([\n",
    "    ('tfidf', TfidfVectorizer(max_df=0.9,analyzer='word',tokenizer=tokenizer_function,ngram_range=(1,2),lowercase=False)),\n",
    "    ('logit', LogisticRegression(penalty='l2',C=0.1)),\n",
    "])"
   ]
  },
  {
   "cell_type": "code",
   "execution_count": 1182,
   "metadata": {},
   "outputs": [
    {
     "data": {
      "text/plain": [
       "Pipeline(memory=None,\n",
       "     steps=[('tfidf', TfidfVectorizer(analyzer='word', binary=False, decode_error='strict',\n",
       "        dtype=<class 'numpy.int64'>, encoding='utf-8', input='content',\n",
       "        lowercase=False, max_df=0.9, max_features=None, min_df=1,\n",
       "        ngram_range=(1, 2), norm='l2', preprocessor=None, smooth_idf=True,\n",
       "...ty='l2', random_state=None, solver='liblinear', tol=0.0001,\n",
       "          verbose=0, warm_start=False))])"
      ]
     },
     "execution_count": 1182,
     "metadata": {},
     "output_type": "execute_result"
    }
   ],
   "source": [
    "pipeLine_tfidf_logistic_regression.fit(X_train,Y_train)"
   ]
  },
  {
   "cell_type": "code",
   "execution_count": 1183,
   "metadata": {},
   "outputs": [
    {
     "data": {
      "text/plain": [
       "0.6940060908084164"
      ]
     },
     "execution_count": 1183,
     "metadata": {},
     "output_type": "execute_result"
    }
   ],
   "source": [
    "pipeLine_tfidf_logistic_regression.score(X_train,Y_train)"
   ]
  },
  {
   "cell_type": "code",
   "execution_count": 1184,
   "metadata": {},
   "outputs": [
    {
     "name": "stdout",
     "output_type": "stream",
     "text": [
      "Accuracy with tf-idf_logistic_regression model is: 0.655316\n",
      "F-1 score with tf-idf_logistic_regression model is: 0.719658\n"
     ]
    }
   ],
   "source": [
    "accuracy_tfidf_logistic_regression=pipeLine_tfidf_logistic_regression.score(X_test,Y_test)\n",
    "f1_score_tfidf_logistic_regression=f1_score(y_true=Y_test,y_pred=pipeLine_tfidf_logistic_regression.predict(X_test))\n",
    "\n",
    "print('Accuracy with tf-idf_logistic_regression model is: %f'%accuracy_tfidf_logistic_regression)\n",
    "print('F-1 score with tf-idf_logistic_regression model is: %f'%f1_score_tfidf_logistic_regression)"
   ]
  },
  {
   "cell_type": "code",
   "execution_count": 1022,
   "metadata": {},
   "outputs": [],
   "source": [
    "# SVM Model"
   ]
  },
  {
   "cell_type": "code",
   "execution_count": 1185,
   "metadata": {},
   "outputs": [],
   "source": [
    "pipeline__tfidf_svm = Pipeline([\n",
    "    ('tfidf', TfidfVectorizer(max_df=0.9,analyzer='word',tokenizer=tokenizer_function,ngram_range=(1,2),lowercase=False)),\n",
    "    ('svm', svm.SVC(kernel='linear',C=0.1)),\n",
    "])"
   ]
  },
  {
   "cell_type": "code",
   "execution_count": 1186,
   "metadata": {},
   "outputs": [
    {
     "data": {
      "text/plain": [
       "Pipeline(memory=None,\n",
       "     steps=[('tfidf', TfidfVectorizer(analyzer='word', binary=False, decode_error='strict',\n",
       "        dtype=<class 'numpy.int64'>, encoding='utf-8', input='content',\n",
       "        lowercase=False, max_df=0.9, max_features=None, min_df=1,\n",
       "        ngram_range=(1, 2), norm='l2', preprocessor=None, smooth_idf=True,\n",
       "...,\n",
       "  max_iter=-1, probability=False, random_state=None, shrinking=True,\n",
       "  tol=0.001, verbose=False))])"
      ]
     },
     "execution_count": 1186,
     "metadata": {},
     "output_type": "execute_result"
    }
   ],
   "source": [
    "pipeline__tfidf_svm.fit(X_train,Y_train)"
   ]
  },
  {
   "cell_type": "code",
   "execution_count": 1187,
   "metadata": {
    "scrolled": true
   },
   "outputs": [
    {
     "data": {
      "text/plain": [
       "0.6252768549280178"
      ]
     },
     "execution_count": 1187,
     "metadata": {},
     "output_type": "execute_result"
    }
   ],
   "source": [
    "pipeline__tfidf_svm.score(X_train,Y_train)"
   ]
  },
  {
   "cell_type": "code",
   "execution_count": 1188,
   "metadata": {},
   "outputs": [
    {
     "name": "stdout",
     "output_type": "stream",
     "text": [
      "Accuracy with tf-idf_svm model is: 0.626523\n",
      "F-1 score with tf-idf_svm model is: 0.720530\n"
     ]
    }
   ],
   "source": [
    "accuracy_tfidf_svm=pipeline__tfidf_svm.score(X_test,Y_test)\n",
    "f1_score_tfidf_svm=f1_score(y_true=Y_test,y_pred=pipeline__tfidf_svm.predict(X_test))\n",
    "print('Accuracy with tf-idf_svm model is: %f'%accuracy_tfidf_svm)\n",
    "print('F-1 score with tf-idf_svm model is: %f'%f1_score_tfidf_svm)"
   ]
  },
  {
   "cell_type": "markdown",
   "metadata": {},
   "source": [
    "# Using all the features together"
   ]
  },
  {
   "cell_type": "code",
   "execution_count": 1223,
   "metadata": {},
   "outputs": [],
   "source": [
    "pipeLine_all_features_logistic_regression = Pipeline([\n",
    "    ('featureUnion', FeatureUnion([\n",
    "        ('tfidf', TfidfVectorizer(max_df=0.9,analyzer='word',tokenizer=tokenizer_function,ngram_range=(1,2),lowercase=False)),\n",
    "        ('sentimentContrast', sentiment_contrast_score()),('interjectionStart',starts_with_interjection())])),\n",
    "    ('logit', LogisticRegression(penalty='l2',C=0.1)),\n",
    "])"
   ]
  },
  {
   "cell_type": "code",
   "execution_count": 1224,
   "metadata": {},
   "outputs": [
    {
     "data": {
      "text/plain": [
       "Pipeline(memory=None,\n",
       "     steps=[('featureUnion', FeatureUnion(n_jobs=1,\n",
       "       transformer_list=[('tfidf', TfidfVectorizer(analyzer='word', binary=False, decode_error='strict',\n",
       "        dtype=<class 'numpy.int64'>, encoding='utf-8', input='content',\n",
       "        lowercase=False, max_df=0.9, max_features=None, min_df=1,\n",
       "        ng...ty='l2', random_state=None, solver='liblinear', tol=0.0001,\n",
       "          verbose=0, warm_start=False))])"
      ]
     },
     "execution_count": 1224,
     "metadata": {},
     "output_type": "execute_result"
    }
   ],
   "source": [
    "pipeLine_all_features_logistic_regression.fit(X_train,Y_train)"
   ]
  },
  {
   "cell_type": "code",
   "execution_count": 1225,
   "metadata": {},
   "outputs": [
    {
     "data": {
      "text/plain": [
       "0.7358803986710963"
      ]
     },
     "execution_count": 1225,
     "metadata": {},
     "output_type": "execute_result"
    }
   ],
   "source": [
    "pipeLine_all_features_logistic_regression.score(X_train,Y_train)"
   ]
  },
  {
   "cell_type": "code",
   "execution_count": 1226,
   "metadata": {},
   "outputs": [
    {
     "name": "stdout",
     "output_type": "stream",
     "text": [
      "Accuracy with all_features_logistic_regression model is: 0.658361\n",
      "F-1 score with all_features_logistic_regression model is: 0.704926\n"
     ]
    }
   ],
   "source": [
    "accuracy_all_features_logistic_regression=pipeLine_all_features_logistic_regression.score(X_test,Y_test)\n",
    "f1_score_all_features_logistic_regression=f1_score(y_true=Y_test,y_pred=pipeLine_all_features_logistic_regression.predict(X_test))\n",
    "\n",
    "print('Accuracy with all_features_logistic_regression model is: %f'%accuracy_all_features_logistic_regression)\n",
    "print('F-1 score with all_features_logistic_regression model is: %f'%f1_score_all_features_logistic_regression)"
   ]
  },
  {
   "cell_type": "code",
   "execution_count": 1227,
   "metadata": {},
   "outputs": [],
   "source": [
    "# SVM Model"
   ]
  },
  {
   "cell_type": "code",
   "execution_count": 1228,
   "metadata": {},
   "outputs": [],
   "source": [
    "pipeLine_all_features_svm = Pipeline([\n",
    "    ('featureUnion', FeatureUnion([\n",
    "        ('tfidf', TfidfVectorizer(max_df=0.9,analyzer='word',tokenizer=tokenizer_function,ngram_range=(1,3),lowercase=False)),\n",
    "        ('sentimentContrast', sentiment_contrast_score()),('interjectionStart',starts_with_interjection())])),\n",
    "    ('svm', svm.SVC(kernel='linear',C=0.1)),\n",
    "])"
   ]
  },
  {
   "cell_type": "code",
   "execution_count": 1229,
   "metadata": {},
   "outputs": [
    {
     "data": {
      "text/plain": [
       "Pipeline(memory=None,\n",
       "     steps=[('featureUnion', FeatureUnion(n_jobs=1,\n",
       "       transformer_list=[('tfidf', TfidfVectorizer(analyzer='word', binary=False, decode_error='strict',\n",
       "        dtype=<class 'numpy.int64'>, encoding='utf-8', input='content',\n",
       "        lowercase=False, max_df=0.9, max_features=None, min_df=1,\n",
       "        ng...,\n",
       "  max_iter=-1, probability=False, random_state=None, shrinking=True,\n",
       "  tol=0.001, verbose=False))])"
      ]
     },
     "execution_count": 1229,
     "metadata": {},
     "output_type": "execute_result"
    }
   ],
   "source": [
    "pipeLine_all_features_svm.fit(X_train,Y_train)"
   ]
  },
  {
   "cell_type": "code",
   "execution_count": 1230,
   "metadata": {},
   "outputs": [
    {
     "data": {
      "text/plain": [
       "0.6400885935769657"
      ]
     },
     "execution_count": 1230,
     "metadata": {},
     "output_type": "execute_result"
    }
   ],
   "source": [
    "pipeLine_all_features_svm.score(X_train,Y_train)"
   ]
  },
  {
   "cell_type": "code",
   "execution_count": 1211,
   "metadata": {},
   "outputs": [
    {
     "name": "stdout",
     "output_type": "stream",
     "text": [
      "Accuracy with all_features_svm model is: 0.639258\n",
      "F1-score with all_features_svm model is: 0.721283\n"
     ]
    }
   ],
   "source": [
    "accuracy_all_features_svm=pipeLine_all_features_svm.score(X_test,Y_test)\n",
    "f1_score_all_features_svm=f1_score(y_true=Y_test,y_pred=pipeLine_all_features_svm.predict(X_test))\n",
    "print('Accuracy with all_features_svm model is: %f'%accuracy_all_features_svm)\n",
    "print('F1-score with all_features_svm model is: %f'%f1_score_all_features_svm)"
   ]
  },
  {
   "cell_type": "markdown",
   "metadata": {},
   "source": [
    "# Top Features"
   ]
  },
  {
   "cell_type": "code",
   "execution_count": 1231,
   "metadata": {},
   "outputs": [],
   "source": [
    "feature_dictionary=dict(zip(pipeLine_all_features_logistic_regression.named_steps['featureUnion'].get_feature_names()\n",
    "                                       ,pipeLine_all_features_logistic_regression.named_steps['logit'].coef_[0]))"
   ]
  },
  {
   "cell_type": "code",
   "execution_count": 1232,
   "metadata": {
    "scrolled": true
   },
   "outputs": [],
   "source": [
    "\n",
    "feature_dictionary= dict(sorted(feature_dictionary.items(), key=lambda x: x[1], reverse=True))"
   ]
  },
  {
   "cell_type": "code",
   "execution_count": 1234,
   "metadata": {},
   "outputs": [
    {
     "data": {
      "text/plain": [
       "{'tfidf__forgot': 1.192115074727436,\n",
       " 'tfidf__yeah': 1.0560854844921614,\n",
       " 'tfidf__obviously': 0.8737190032817792,\n",
       " 'tfidf__woman': 0.7300251294384557,\n",
       " 'tfidf__totally': 0.7076724278136528,\n",
       " 'tfidf__clearly': 0.698343080953594,\n",
       " 'tfidf__gt': 0.6951040011830748,\n",
       " 'tfidf__must': 0.6309972889593631,\n",
       " 'tfidf__edit': 0.6102451133998784,\n",
       " 'tfidf__dropped': 0.5978037441054367,\n",
       " 'tfidf__right': 0.5940782483366422,\n",
       " 'interjectionStart__is_interjection': 0.5935464969384036,\n",
       " 'tfidf__everyone': 0.5179620685693269,\n",
       " 'tfidf__know': 0.4799510868041542,\n",
       " 'tfidf__im sure': 0.43646524984430496,\n",
       " 'tfidf__guy': 0.4358327863115601,\n",
       " 'tfidf__mean': 0.4286678736919486,\n",
       " 'tfidf__dare': 0.38590744348020095,\n",
       " 'tfidf__white': 0.3849846262899671,\n",
       " 'tfidf__man': 0.37506034383893033,\n",
       " 'tfidf__men': 0.3686802830799839,\n",
       " 'tfidf__real': 0.36830586127509424,\n",
       " 'tfidf__people': 0.3498747001304554,\n",
       " 'tfidf__didnt': 0.33622004906184166,\n",
       " 'tfidf__racist': 0.32738078291927797,\n",
       " 'tfidf__I guess': 0.32293515425279773,\n",
       " 'tfidf__cant': 0.3167245578943532,\n",
       " 'tfidf__sarcasm': 0.3103661705131206,\n",
       " 'tfidf__guess': 0.3087174408287107,\n",
       " 'tfidf__sure': 0.29609992018174086,\n",
       " 'tfidf__black': 0.2665140432707435,\n",
       " 'tfidf__money': 0.26607908001219216,\n",
       " 'tfidf__wow': 0.2648431202715091,\n",
       " 'tfidf__dont know': 0.25442827587685873,\n",
       " 'tfidf__everyone know': 0.25072092747761077,\n",
       " 'tfidf__bro': 0.24765104739726737,\n",
       " 'tfidf__police': 0.2414289881700377,\n",
       " 'tfidf__course': 0.23463119193069645,\n",
       " 'tfidf__need': 0.23097543643913804,\n",
       " 'tfidf__theyre': 0.22786806759658074,\n",
       " 'tfidf__forget': 0.22612333784184235,\n",
       " 'tfidf__yea': 0.22288546299650977,\n",
       " 'tfidf__completely': 0.22122092949722838,\n",
       " 'tfidf__shitlord': 0.21828508822664475,\n",
       " 'tfidf__think forgot': 0.21715438422899275,\n",
       " 'tfidf__stop': 0.21329557149927805,\n",
       " 'tfidf__TSM': 0.2122034356421837,\n",
       " 'tfidf__I mean': 0.21040153910600137,\n",
       " 'tfidf__reddit': 0.21037238801007951,\n",
       " 'tfidf__child': 0.2078608235970992,\n",
       " 'tfidf__obvious': 0.20433063875954321,\n",
       " 'tfidf__fat': 0.20194727465344434,\n",
       " 'tfidf__kill': 0.20147928367093484,\n",
       " 'tfidf__victim': 0.19300835408911704,\n",
       " 'tfidf__poor': 0.19240835440951978,\n",
       " 'tfidf__amirite': 0.1897498308548818,\n",
       " 'tfidf__play': 0.1889698382630572,\n",
       " 'tfidf__cause': 0.1878158371917242,\n",
       " 'tfidf__I bet': 0.1875779103131786,\n",
       " 'tfidf__player': 0.18574463319340834,\n",
       " 'tfidf__rape': 0.18533192374568652,\n",
       " 'tfidf__government': 0.18423768930320505,\n",
       " 'tfidf__country': 0.18328924708415975,\n",
       " 'tfidf__logic': 0.18212415007263016,\n",
       " 'tfidf__duh': 0.1815528288094327,\n",
       " 'tfidf__gotta': 0.1810527613358661,\n",
       " 'tfidf__gay': 0.18071739348285953,\n",
       " 'tfidf__privilege': 0.1804000910203251,\n",
       " 'tfidf__job': 0.17700049152321823,\n",
       " 'tfidf__guess I': 0.17587164067202124,\n",
       " 'tfidf__jew': 0.17584204936944164,\n",
       " 'tfidf__de': 0.1753800584736307,\n",
       " 'tfidf__dont worry': 0.17516134993252472,\n",
       " 'tfidf__fault': 0.17119407280983528,\n",
       " 'tfidf__them!': 0.16822456271879693,\n",
       " 'tfidf__doesnt': 0.16699122227953037,\n",
       " 'tfidf__hey': 0.1664046817762181,\n",
       " 'tfidf__didnt know': 0.16542321402250884,\n",
       " 'tfidf__I forgot': 0.16393046445743542,\n",
       " 'tfidf__TIL': 0.16392360951586382,\n",
       " 'tfidf__sex': 0.16355229276876146,\n",
       " 'tfidf__healthy': 0.16325195045134097,\n",
       " 'tfidf__ever': 0.16205323586001666,\n",
       " 'tfidf__confirmed': 0.1600981575388949,\n",
       " 'tfidf__never': 0.1600400319048904,\n",
       " 'tfidf__telling': 0.1596975522501785,\n",
       " 'tfidf__muslim': 0.1591803879291366,\n",
       " 'tfidf__youre right': 0.15878902194806707,\n",
       " 'tfidf__offensive': 0.15809884514444367,\n",
       " 'tfidf__world': 0.15805598755704223,\n",
       " 'tfidf__much better': 0.1579742661648343,\n",
       " 'tfidf__dont forget': 0.15576703036006878,\n",
       " 'tfidf__internet': 0.15531189661634795,\n",
       " 'tfidf__gun': 0.15371645996788408,\n",
       " 'tfidf__oh yeah': 0.15355656194143982,\n",
       " 'tfidf__bet': 0.15304023258730418,\n",
       " 'tfidf__dropped gt': 0.14829192025266788,\n",
       " 'tfidf__que': 0.1463708310880253,\n",
       " 'tfidf__shitlord!': 0.1452214040914929,\n",
       " 'tfidf__ban': 0.14500672947515894,\n",
       " 'tfidf__evil': 0.14303645804225473,\n",
       " 'tfidf__person': 0.1430109181267285,\n",
       " 'tfidf__wrong': 0.14221279291018363,\n",
       " 'tfidf__racism': 0.1401612656099579,\n",
       " 'tfidf__christian': 0.13998737784156112,\n",
       " 'tfidf__freedom': 0.13991754881678103,\n",
       " 'tfidf__shes': 0.1377087335180294,\n",
       " 'tfidf__fake': 0.13528414767873728,\n",
       " 'tfidf__therefore': 0.13520491687152372,\n",
       " 'tfidf__dont': 0.13444120815031887,\n",
       " 'tfidf__EDIT': 0.13343579368594552,\n",
       " 'tfidf__think dropped': 0.13284388710066816,\n",
       " 'tfidf__matter': 0.132448856687292,\n",
       " 'tfidf__yes': 0.13231589580035608,\n",
       " 'tfidf__someone': 0.1314272589233004,\n",
       " 'tfidf__NA': 0.13069099704559953,\n",
       " 'tfidf__surely': 0.1298435395116766,\n",
       " 'tfidf__needed': 0.1297754824210772,\n",
       " 'tfidf__gee': 0.12897640091132012,\n",
       " 'tfidf__race': 0.1288249575804175,\n",
       " 'tfidf__I thought': 0.12864911952929187,\n",
       " 'tfidf__racist!': 0.12793197174740964,\n",
       " 'tfidf__jeez': 0.1259497151872774,\n",
       " 'tfidf__sexist': 0.12498100484701896,\n",
       " 'tfidf__omg': 0.12457179575588312,\n",
       " 'tfidf__ref': 0.12445081763317425,\n",
       " 'tfidf__didnt see': 0.12413875062414644,\n",
       " 'tfidf__OP': 0.12402993538894462,\n",
       " 'tfidf__raped': 0.12324147152850823,\n",
       " 'tfidf__oppressing': 0.12313669731854705,\n",
       " 'tfidf__kid': 0.12244385017065708,\n",
       " 'tfidf__him!': 0.12201777208738783,\n",
       " 'tfidf__prison': 0.12138814316275913,\n",
       " 'tfidf__nothing': 0.1212736569802958,\n",
       " 'tfidf__impossible': 0.12000813084271025,\n",
       " 'tfidf__patriarchy': 0.11966277766182695,\n",
       " 'tfidf__superior': 0.1187116991490526,\n",
       " 'tfidf__human': 0.11857758571075053,\n",
       " 'tfidf__allowed': 0.11807162967480657,\n",
       " 'tfidf__here!': 0.11782599663891793,\n",
       " 'tfidf__DAE': 0.1178122466425621,\n",
       " 'tfidf__thank god': 0.11760179246502833,\n",
       " 'tfidf__nah': 0.11703835048371067,\n",
       " 'tfidf__feminist': 0.1162679918905563,\n",
       " 'tfidf__tax': 0.1161634582386128,\n",
       " 'tfidf__violence': 0.11445593705624052,\n",
       " 'tfidf__vote': 0.11429442260230126,\n",
       " 'tfidf__forgot gt': 0.11300633910050124,\n",
       " 'tfidf__fix': 0.11271731603022536,\n",
       " 'tfidf__would never': 0.11217811033126601,\n",
       " 'tfidf__violent': 0.11173530024953443,\n",
       " 'sentimentContrast__sentiment_contrast_score': 0.11165345427362253,\n",
       " 'tfidf__white people': 0.11157747599466857,\n",
       " 'tfidf__forgot add': 0.11132867452315635,\n",
       " 'tfidf__bbut': 0.11115337320380492,\n",
       " 'tfidf__hope forgot': 0.11107776739945409,\n",
       " 'tfidf__supposed': 0.11103489765117602,\n",
       " 'tfidf__lying': 0.11056406610251576,\n",
       " 'tfidf__hate': 0.11036482125783348,\n",
       " 'tfidf__conspiracy': 0.11020257929462583,\n",
       " 'tfidf__standard': 0.11008858616595327,\n",
       " 'tfidf__boxing': 0.10962177234728704,\n",
       " 'tfidf__guy wa': 0.10960403021996422,\n",
       " 'tfidf__attractive': 0.10902586076823172,\n",
       " 'tfidf__year old': 0.10869117718050984,\n",
       " 'tfidf__scum': 0.10794729347452364,\n",
       " 'tfidf__trigger': 0.10747064699592593,\n",
       " 'tfidf__rich': 0.10746436783501404,\n",
       " 'tfidf__shocked': 0.10740189995605395,\n",
       " 'tfidf__weve': 0.10687840165796143,\n",
       " 'tfidf__faker': 0.1067507614563327,\n",
       " 'tfidf__worry': 0.10672465618262707,\n",
       " 'tfidf__million': 0.10660573793076443,\n",
       " 'tfidf__right!': 0.10634587340097187,\n",
       " 'tfidf__BUT': 0.10579744256545806,\n",
       " 'tfidf__cheat': 0.10556452338258086,\n",
       " 'tfidf__mature': 0.104225833087596,\n",
       " 'tfidf__yeah let': 0.10359946165751119,\n",
       " 'tfidf__filthy': 0.10260941766959915,\n",
       " 'tfidf__smart': 0.10237621102706676,\n",
       " 'tfidf__silver': 0.10187710675503228,\n",
       " 'tfidf__whore': 0.10145967575061181,\n",
       " 'tfidf__hitler': 0.10145420781407805,\n",
       " 'tfidf__like nice': 0.10100046824955193,\n",
       " 'tfidf__oh look': 0.10064519501158868,\n",
       " 'tfidf__brady': 0.10053649692434129,\n",
       " 'tfidf__management': 0.10044571162108878,\n",
       " 'tfidf__cheating': 0.1003328749644335,\n",
       " 'tfidf__serious': 0.09996620104595186,\n",
       " 'tfidf__asian': 0.09947203018165349,\n",
       " 'tfidf__sign': 0.09920954003333958,\n",
       " 'tfidf__sarcastic': 0.09825303460609312,\n",
       " 'tfidf__commie': 0.0979040755767064,\n",
       " 'tfidf__che': 0.09775572075873999,\n",
       " 'tfidf__scrub': 0.09685493644923478,\n",
       " 'tfidf__american': 0.09680682133252551,\n",
       " 'tfidf__wait': 0.09668764199221631,\n",
       " 'tfidf__maybe': 0.09627973748053582,\n",
       " 'tfidf__I need': 0.09617173526123639,\n",
       " 'tfidf__everything': 0.09595637682904146,\n",
       " 'tfidf__console': 0.09486559959536404,\n",
       " 'tfidf__english': 0.09451908535741668,\n",
       " 'tfidf__israel': 0.09403324826126747,\n",
       " 'tfidf__russia': 0.09396700208512519,\n",
       " 'tfidf__supporting': 0.09387475046582672,\n",
       " 'tfidf__possibly': 0.0931258233214269,\n",
       " 'tfidf__yeah!': 0.09294491708650394,\n",
       " 'tfidf__wonderful': 0.09291809632064625,\n",
       " 'tfidf__EU': 0.0923529499252811,\n",
       " 'tfidf__mass': 0.0923062433900961,\n",
       " 'tfidf__calorie': 0.09227222085277927,\n",
       " 'tfidf__jail': 0.0922627833066901,\n",
       " 'tfidf__terrible': 0.09216540127881326,\n",
       " 'tfidf__know right': 0.09165844899152005,\n",
       " 'tfidf__russian': 0.09161854290279446,\n",
       " 'tfidf__trust': 0.09146763847130335,\n",
       " 'tfidf__rid': 0.09138180471209416,\n",
       " 'tfidf__en': 0.09133116616094711,\n",
       " 'tfidf__society': 0.0906721679968003,\n",
       " 'tfidf__si': 0.09046129715354374,\n",
       " 'tfidf__protest': 0.09001435180229823,\n",
       " 'tfidf__counter': 0.08994738352960009,\n",
       " 'tfidf__technology': 0.08980541561522794,\n",
       " 'tfidf__havent heard': 0.08948167630174021,\n",
       " 'tfidf__fps': 0.08917918174284899,\n",
       " 'tfidf__overrated': 0.08910043616691661,\n",
       " 'tfidf__false': 0.08905911590547244,\n",
       " 'tfidf__ethic': 0.08888904402492649,\n",
       " 'tfidf__stupid': 0.08887744990065981,\n",
       " 'tfidf__stud': 0.08883243357556624,\n",
       " 'tfidf__abortion': 0.08852066187056022,\n",
       " 'tfidf__ripped': 0.0881082914150308,\n",
       " 'tfidf__end well': 0.08807992272359974,\n",
       " 'tfidf__republican': 0.08804159333615559,\n",
       " 'tfidf__dont see': 0.08756860030833646,\n",
       " 'tfidf__youre': 0.08739588897460367,\n",
       " 'tfidf__truly': 0.0866086481118448,\n",
       " 'tfidf__apparently': 0.08641328174481373,\n",
       " 'tfidf__sexism': 0.08638385371999456,\n",
       " 'tfidf__support': 0.08608081112981339,\n",
       " 'tfidf__yeah fuck': 0.08596173848883568,\n",
       " 'tfidf__beta': 0.08596134521555293,\n",
       " 'tfidf__hundred': 0.08584040570648142,\n",
       " 'tfidf__could possibly': 0.085837244007346,\n",
       " 'tfidf__terrorist': 0.08582918477585225,\n",
       " 'tfidf__no!': 0.08579885019307591,\n",
       " 'tfidf__hope wa': 0.08558342602133782,\n",
       " 'tfidf__tory': 0.08514248523039535,\n",
       " 'tfidf__minority': 0.08480561962214307,\n",
       " 'tfidf__nerf': 0.0845708342545846,\n",
       " 'tfidf__everybody': 0.08398759739632534,\n",
       " 'tfidf__oh': 0.0839722509124717,\n",
       " 'tfidf__shouldve': 0.08361558023588186,\n",
       " 'tfidf__gee I': 0.08358982223904546,\n",
       " 'tfidf__good thing': 0.08358379463664074,\n",
       " 'tfidf__satan': 0.0834585282122781,\n",
       " 'tfidf__medium': 0.08331112895238733,\n",
       " 'tfidf__biased': 0.08315327997616953,\n",
       " 'tfidf__journalism': 0.08314469823350726,\n",
       " 'tfidf__det': 0.08270244380334665,\n",
       " 'tfidf__murder': 0.08248520093320823,\n",
       " 'tfidf__homeless': 0.08247225219257841,\n",
       " 'tfidf__better': 0.08245517949822304,\n",
       " 'tfidf__go wrong': 0.08243714744629625,\n",
       " 'tfidf__thatll': 0.08239559595791301,\n",
       " 'tfidf__cultural': 0.08213245506976692,\n",
       " 'tfidf__ci': 0.08199064886509122,\n",
       " 'tfidf__wonder': 0.08194780390257814,\n",
       " 'tfidf__state': 0.08126372174672321,\n",
       " 'tfidf__master': 0.0810697736053927,\n",
       " 'tfidf__weight': 0.08106521509196181,\n",
       " 'tfidf__genius': 0.08099662756080421,\n",
       " 'tfidf__youre missing': 0.08095343829255601,\n",
       " 'tfidf__womyn': 0.0809406469885565,\n",
       " 'tfidf__SKT': 0.0807019793525541,\n",
       " 'tfidf__im gonna': 0.0805060048840758,\n",
       " 'tfidf__nation': 0.08044975550148147,\n",
       " 'tfidf__illegal': 0.08044601106761473,\n",
       " 'tfidf__conservative': 0.08042760490664892,\n",
       " 'tfidf__dare say': 0.0804058026271932,\n",
       " 'tfidf__deserve': 0.08012053427843677,\n",
       " 'tfidf__organization': 0.07982183351789339,\n",
       " 'tfidf__legal': 0.07964307874714631,\n",
       " 'tfidf__bias': 0.07959285342064558,\n",
       " 'tfidf__bbbut': 0.07959264609653055,\n",
       " 'tfidf__split': 0.07955282811471241,\n",
       " 'tfidf__sub': 0.07941944228635599,\n",
       " 'tfidf__devs': 0.07935176354227494,\n",
       " 'tfidf__apple': 0.0792226436354751,\n",
       " 'tfidf__guy!': 0.07896659473001,\n",
       " 'tfidf__public': 0.07873601540166288,\n",
       " 'tfidf__couldnt': 0.07867167072785322,\n",
       " 'tfidf__didnt hear': 0.07866379118237267,\n",
       " 'tfidf__balanced': 0.07862058783621344,\n",
       " 'tfidf__oh wow': 0.07859738146337109,\n",
       " 'tfidf__ha never': 0.07852337138385934,\n",
       " 'tfidf__result': 0.0783199163285597,\n",
       " 'tfidf__banned': 0.07821554835573657,\n",
       " 'tfidf__argument': 0.07806548972927879,\n",
       " 'tfidf__navi': 0.07782377303031837,\n",
       " 'tfidf__youre probably': 0.07763292434084174,\n",
       " 'tfidf__surprise': 0.0776295770254197,\n",
       " 'tfidf__coach': 0.07761573415989334,\n",
       " 'tfidf__da': 0.0774665038670244,\n",
       " 'tfidf__before!': 0.07742454477556113,\n",
       " 'tfidf__east': 0.07709210567349559,\n",
       " 'tfidf__yeah totally': 0.07703095263280478,\n",
       " 'tfidf__ha ever': 0.07695931210012479,\n",
       " 'tfidf__cost': 0.07694997166152867,\n",
       " 'tfidf__family': 0.07645377927461233,\n",
       " 'tfidf__lady': 0.07637318666015952,\n",
       " 'tfidf__I totally': 0.07621848403408145,\n",
       " 'tfidf__funny': 0.07605557533680796,\n",
       " 'tfidf__ha nothing': 0.0759451640326187,\n",
       " 'tfidf__course!': 0.07592495923984972,\n",
       " 'tfidf__speak': 0.07582847501710172,\n",
       " 'tfidf__cancer': 0.07554756825125133,\n",
       " 'tfidf__check privilege': 0.07526747191939025,\n",
       " 'tfidf__ukraine': 0.07496378668117026,\n",
       " 'tfidf__plan': 0.07475552123111044,\n",
       " 'tfidf__smith': 0.07470179934626493,\n",
       " 'tfidf__smurf': 0.07455508585714726,\n",
       " 'tfidf__get rid': 0.07453880075287736,\n",
       " 'tfidf__nonsense': 0.07448936585158372,\n",
       " 'tfidf__complaining': 0.07434835694775764,\n",
       " 'tfidf__downvoted': 0.07432066630002536,\n",
       " 'tfidf__germany': 0.07429421115379045,\n",
       " 'tfidf__solved': 0.07412561056791374,\n",
       " 'tfidf__O': 0.07401437951839478,\n",
       " 'tfidf__profit': 0.07367526486562752,\n",
       " 'tfidf__gamers': 0.07343032164850673,\n",
       " 'tfidf__joe': 0.07342677891221332,\n",
       " 'tfidf__never anything': 0.07336593450202264,\n",
       " 'tfidf__might need': 0.073096531658763,\n",
       " 'tfidf__gaming': 0.07297907502381529,\n",
       " 'tfidf__dare you!': 0.07293462990474106,\n",
       " 'tfidf__murica': 0.07291291094757119,\n",
       " 'tfidf__female': 0.07256678617981405,\n",
       " 'tfidf__realistic': 0.07250503984690201,\n",
       " 'tfidf__people!': 0.0724365235313838,\n",
       " 'tfidf__zionist': 0.0723811891349321,\n",
       " 'tfidf__suffering': 0.0722699145525961,\n",
       " 'tfidf__threat': 0.07130683497246997,\n",
       " 'tfidf__starvation': 0.07118659024671285,\n",
       " 'tfidf__palestine': 0.0709536483551351,\n",
       " 'tfidf__else would': 0.07085164377003546,\n",
       " 'tfidf__product': 0.07079400705472022,\n",
       " 'tfidf__extremely': 0.07065199243839802,\n",
       " 'tfidf__shut': 0.07056043262594833,\n",
       " 'tfidf__midlaner': 0.07055705854289614,\n",
       " 'tfidf__article': 0.0705499156442335,\n",
       " 'tfidf__beat': 0.0704297745260244,\n",
       " 'tfidf__successful': 0.07039812145936147,\n",
       " 'tfidf__circle jerk': 0.0702957056309237,\n",
       " 'tfidf__taking': 0.07019579427161945,\n",
       " 'tfidf__genetics': 0.06983839608557409,\n",
       " 'tfidf__I shouldve': 0.06981709011268133,\n",
       " 'tfidf__master race': 0.06976578999856688,\n",
       " 'tfidf__soooo': 0.06969992361826892,\n",
       " 'tfidf__trolling': 0.06950802512569515,\n",
       " 'tfidf__se': 0.06946588948023458,\n",
       " 'tfidf__good job': 0.06945941275112007,\n",
       " 'tfidf__cop': 0.06897318716893894,\n",
       " 'tfidf__virgin': 0.06893939270050323,\n",
       " 'tfidf__logical': 0.06888296706166536,\n",
       " 'tfidf__pfft': 0.06865314892769671,\n",
       " 'tfidf__business': 0.06862378692184032,\n",
       " 'tfidf__peasant': 0.06837359932097799,\n",
       " 'tfidf__hurt': 0.06836900179781255,\n",
       " 'tfidf__call': 0.06813842493769802,\n",
       " 'tfidf__yeah like': 0.06812644130236892,\n",
       " 'tfidf__headline': 0.06810625337979398,\n",
       " 'tfidf__didnt need': 0.06807999940982443,\n",
       " 'tfidf__hacking': 0.06805523819639375,\n",
       " 'tfidf__duh!': 0.06804655792851091,\n",
       " 'tfidf__voter': 0.06784275730370841,\n",
       " 'tfidf__typical': 0.06774089978194558,\n",
       " 'tfidf__yes wa': 0.0676645615258181,\n",
       " 'tfidf__obama': 0.067516408154994,\n",
       " 'tfidf__USA': 0.06750831126755133,\n",
       " 'tfidf__vaccine': 0.06718468912614546,\n",
       " 'tfidf__censorship': 0.06717715569446163,\n",
       " 'tfidf__optic': 0.06676163485680094,\n",
       " 'tfidf__possibly go': 0.06671106474022401,\n",
       " 'tfidf__then!': 0.06663104719178506,\n",
       " 'tfidf__chinese': 0.06654026326907375,\n",
       " 'tfidf__doesnt happen': 0.06627054843739835,\n",
       " 'tfidf__accepting': 0.06621767238669572,\n",
       " 'tfidf__nobody': 0.06621008921134192,\n",
       " 'tfidf__must fun': 0.06608494045185526,\n",
       " 'tfidf__nah man': 0.06599952562969987,\n",
       " 'tfidf__there!': 0.06591385434101181,\n",
       " 'tfidf__AND': 0.06578623663467538,\n",
       " 'tfidf__entire': 0.06570824987300578,\n",
       " 'tfidf__checkmate': 0.06565389109424007,\n",
       " 'tfidf__misogynist': 0.0655922121184333,\n",
       " 'tfidf__wouldve': 0.06557919867063795,\n",
       " 'tfidf__riven': 0.06555847194307607,\n",
       " 'tfidf__fag': 0.06533086889485192,\n",
       " 'tfidf__pat': 0.0652786691528409,\n",
       " 'tfidf__deep': 0.06526168548077206,\n",
       " 'tfidf__losing': 0.06521492893190381,\n",
       " 'tfidf__listen': 0.06519847636368381,\n",
       " 'tfidf__shame': 0.06518196924646112,\n",
       " 'tfidf__!': 0.06508539716047976,\n",
       " 'tfidf__prof': 0.06488446782361851,\n",
       " 'tfidf__para': 0.06484524623424272,\n",
       " 'tfidf__directly': 0.06473667203666635,\n",
       " 'tfidf__selfless': 0.06450033372087693,\n",
       " 'tfidf__trot': 0.06449841721880621,\n",
       " 'tfidf__lo': 0.06422483224362809,\n",
       " 'tfidf__china': 0.06418500217682162,\n",
       " 'tfidf__take care': 0.0641709713868946,\n",
       " 'tfidf__joe kelly': 0.06411191238809025,\n",
       " 'tfidf__better!': 0.0640369526598247,\n",
       " 'tfidf__wow!': 0.06388294199108262,\n",
       " 'tfidf__forced': 0.06377790726639461,\n",
       " 'tfidf__industry': 0.06362712404274856,\n",
       " 'tfidf__death': 0.06354014120667319,\n",
       " 'tfidf__pleb': 0.06335170974387758,\n",
       " 'tfidf__forbid': 0.06331869788283634,\n",
       " 'tfidf__god forbid': 0.06331869788283634,\n",
       " 'tfidf__diverse': 0.06323518126321959,\n",
       " 'tfidf__alive': 0.06321865763007163,\n",
       " 'tfidf__hack': 0.06321793285871981,\n",
       " 'tfidf__agency': 0.06319955982362258,\n",
       " 'tfidf__is!': 0.06301280994691544,\n",
       " 'tfidf__professional': 0.0629789108706591,\n",
       " 'tfidf__downvotes': 0.06296011455721236,\n",
       " 'tfidf__gasp': 0.06289862344993806,\n",
       " 'tfidf__men cant': 0.06283492092781878,\n",
       " 'tfidf__cheated': 0.06277516261821116,\n",
       " 'tfidf__european': 0.06277092727627603,\n",
       " 'tfidf__curve': 0.06268427808416342,\n",
       " 'tfidf__bad!': 0.06267295126474227,\n",
       " 'tfidf__cartoon': 0.06261193518701764,\n",
       " 'tfidf__shooting': 0.0625017724978417,\n",
       " 'tfidf__international': 0.06249950483568949,\n",
       " 'tfidf__ALL': 0.06243196720177963,\n",
       " 'tfidf__agenda': 0.06242361694989804,\n",
       " 'tfidf__die': 0.062333134737230914,\n",
       " 'tfidf__hey least': 0.06227008318815741,\n",
       " 'tfidf__store': 0.0622358101524909,\n",
       " 'tfidf__abuse': 0.062225880016976085,\n",
       " 'tfidf__corporation': 0.06219837417667433,\n",
       " 'tfidf__soooooo': 0.06219171598156953,\n",
       " 'tfidf__way!': 0.06215305364534074,\n",
       " 'tfidf__follow': 0.06214407786372369,\n",
       " 'tfidf__dont understand': 0.0620367267975231,\n",
       " 'tfidf__cant handle': 0.06196171810289457,\n",
       " 'tfidf__sting': 0.06176140926830271,\n",
       " 'tfidf__count': 0.06172088132471671,\n",
       " 'tfidf__wouldnt want': 0.06149384104090407,\n",
       " 'tfidf__cinematic': 0.06141991382590751,\n",
       " 'tfidf__political': 0.06137265968904739,\n",
       " 'tfidf__seems': 0.0613178921228309,\n",
       " 'tfidf__halo': 0.061213593094068944,\n",
       " 'tfidf__riot': 0.06106852749962798,\n",
       " 'tfidf__gotta love': 0.06106544111634251,\n",
       " 'tfidf__gt I': 0.06100390399985721,\n",
       " 'tfidf__anything wrong': 0.06098649365746415,\n",
       " 'tfidf__people dont': 0.06088169641393376,\n",
       " 'tfidf__wow wa': 0.06087054463330397,\n",
       " 'tfidf__yeh': 0.06084555215453515,\n",
       " 'tfidf__il': 0.06076851295702042,\n",
       " 'tfidf__arrest': 0.06075763437158085,\n",
       " 'tfidf__poor guy': 0.060736221532371515,\n",
       " 'tfidf__camp': 0.060646532562315406,\n",
       " 'tfidf__need friend': 0.060633824690782795,\n",
       " 'tfidf__nobel': 0.06058464727260282,\n",
       " 'tfidf__upvotes': 0.06058342023527698,\n",
       " 'tfidf__guys!': 0.060545288040651964,\n",
       " 'tfidf__next year': 0.06053074133161685,\n",
       " 'tfidf__ikr': 0.06039666434175955,\n",
       " 'tfidf__domestic': 0.06023702265956699,\n",
       " 'tfidf__calorie equal': 0.06023577078647187,\n",
       " 'tfidf__highlight': 0.05997572830582836,\n",
       " 'tfidf__handle': 0.05997216259338721,\n",
       " 'tfidf__wa good': 0.059963560491274354,\n",
       " 'tfidf__un': 0.059942089684715885,\n",
       " 'tfidf__dunk': 0.0599005916748929,\n",
       " 'tfidf__xbone': 0.05983898674921033,\n",
       " 'tfidf__superman': 0.05968763179036,\n",
       " 'tfidf__hollywood': 0.05964886925951068,\n",
       " 'tfidf__bible': 0.05962397236527149,\n",
       " 'tfidf__partner': 0.05961864927190913,\n",
       " 'tfidf__starvation mode': 0.05961783243682308,\n",
       " 'tfidf__rich people': 0.05957441096315437,\n",
       " 'tfidf__private': 0.05946208317669672,\n",
       " 'tfidf__taunt': 0.05917601363910508,\n",
       " 'tfidf__I needed': 0.059097212959040094,\n",
       " 'tfidf__DARE': 0.05909237038515283,\n",
       " 'tfidf__HOW DARE': 0.05909237038515283,\n",
       " 'tfidf__socialist': 0.0588206671478872,\n",
       " 'tfidf__precious': 0.058685045168735545,\n",
       " 'tfidf__dont need': 0.058671805451953156,\n",
       " 'tfidf__thus': 0.05866078039736815,\n",
       " 'tfidf__patriarchy course': 0.058648844662559874,\n",
       " 'tfidf__innocent': 0.058625920955803094,\n",
       " 'tfidf__get paid': 0.05853169982777872,\n",
       " 'tfidf__one coming': 0.05846883490886581,\n",
       " 'tfidf__wa sarcastic': 0.058425134262782195,\n",
       " 'tfidf__drug': 0.05830838018445669,\n",
       " 'tfidf__anonymous': 0.05824430098924294,\n",
       " 'tfidf__demand': 0.05821293881610234,\n",
       " 'tfidf__change everything': 0.05815415654859403,\n",
       " 'tfidf__didnt think': 0.058116739740018644,\n",
       " 'tfidf__fracking': 0.05811475347439986,\n",
       " 'tfidf__eye see': 0.057955221926119856,\n",
       " 'tfidf__labour': 0.05794268025995412,\n",
       " 'tfidf__hate woman': 0.05792782601997334,\n",
       " 'tfidf__ruin': 0.05790416004493619,\n",
       " 'tfidf__puck': 0.05780526999533683,\n",
       " 'tfidf__human eye': 0.05776244377297435,\n",
       " 'tfidf__pussy': 0.057645938615036314,\n",
       " 'tfidf__probable': 0.05761241503590008,\n",
       " 'tfidf__GG': 0.057582564152199596,\n",
       " 'tfidf__western': 0.05742944953421938,\n",
       " 'tfidf__kidding': 0.057427128178236725,\n",
       " 'tfidf__bully': 0.0573655228653864,\n",
       " 'tfidf__totally make': 0.057340195171759895,\n",
       " 'tfidf__judge': 0.057294209684319974,\n",
       " 'tfidf__completely serious': 0.05721171937879799,\n",
       " 'tfidf__arin': 0.05717686408614559,\n",
       " 'tfidf__username': 0.057112482702600484,\n",
       " 'tfidf__werent': 0.05710089358580594,\n",
       " 'tfidf__shourie': 0.05695398917968326,\n",
       " 'tfidf__choice': 0.05689335280953694,\n",
       " 'tfidf__yay': 0.056679063290420814,\n",
       " 'tfidf__10 10': 0.05661426205539308,\n",
       " 'tfidf__att': 0.05655387769503623,\n",
       " 'tfidf__lose weight': 0.056439766269086526,\n",
       " 'tfidf__soccer': 0.05639097177463958,\n",
       " 'tfidf__congress': 0.056374672432681,\n",
       " 'tfidf__aint': 0.05633955440947539,\n",
       " 'tfidf__blake': 0.05633892443362126,\n",
       " 'tfidf__misogyny': 0.05631584356716047,\n",
       " 'tfidf__insulted': 0.05624676319648508,\n",
       " 'tfidf__deserved': 0.0561722991292497,\n",
       " 'tfidf__EXACTLY': 0.05614365226058008,\n",
       " 'tfidf__thats real': 0.05611742810962752,\n",
       " 'tfidf__told': 0.056098011353996155,\n",
       " 'tfidf__oh im': 0.05608429331096437,\n",
       " 'tfidf__yah': 0.056028094305297114,\n",
       " 'tfidf__SJW': 0.05602801965846252,\n",
       " 'tfidf__thyroid': 0.05597183164467882,\n",
       " 'tfidf__jobs!': 0.055890290192309205,\n",
       " 'tfidf__goalie': 0.05587942402329171,\n",
       " 'tfidf__trying make': 0.05587360481869687,\n",
       " 'tfidf__assault': 0.05586851719737063,\n",
       " 'tfidf__playoff': 0.0558041900657104,\n",
       " 'tfidf__movie': 0.05574551005961274,\n",
       " 'tfidf__yet another': 0.05563015122042375,\n",
       " 'tfidf__pro': 0.05558263286538646,\n",
       " 'tfidf__cant imagine': 0.055509538598862734,\n",
       " 'tfidf__people cant': 0.05547745704358863,\n",
       " 'tfidf__justice!': 0.05543753157900596,\n",
       " 'tfidf__ISIS': 0.055423152605822305,\n",
       " 'tfidf__dont vote': 0.05533480065606297,\n",
       " 'tfidf__supreme': 0.055305269984835224,\n",
       " 'tfidf__tournament': 0.055253663394158804,\n",
       " 'tfidf__hardcore': 0.055213256599790525,\n",
       " 'tfidf__tell': 0.05512964809531265,\n",
       " 'tfidf__time!': 0.05509592818289848,\n",
       " 'tfidf__dont even': 0.055090927352452024,\n",
       " 'tfidf__kim': 0.05506041941883753,\n",
       " 'tfidf__football': 0.05501939061366634,\n",
       " 'tfidf__giving': 0.054964880867527925,\n",
       " 'tfidf__knew': 0.05480117751620149,\n",
       " 'tfidf__thought': 0.05467803899575838,\n",
       " 'tfidf__di': 0.05457628028422426,\n",
       " 'tfidf__thanks input': 0.05453730825153111,\n",
       " 'tfidf__social medium': 0.054530267419183126,\n",
       " 'tfidf__400': 0.05448771464130418,\n",
       " 'tfidf__blasphemy!': 0.05447456499701484,\n",
       " 'tfidf__make money': 0.054454339055854784,\n",
       " 'tfidf__headline management': 0.054428706898673386,\n",
       " 'tfidf__stalin': 0.05437290324254548,\n",
       " 'tfidf__head!': 0.05427924319959413,\n",
       " 'tfidf__shovel': 0.05425828356756883,\n",
       " 'tfidf__black people': 0.05424275620142759,\n",
       " 'tfidf__fairness': 0.054236770021035136,\n",
       " 'tfidf__unhealthy': 0.054214074485957345,\n",
       " 'tfidf__OMG': 0.05409449950363408,\n",
       " 'tfidf__coincidence': 0.05391014574893152,\n",
       " 'tfidf__exciting': 0.053846461149855494,\n",
       " 'tfidf__middle east': 0.05382973666411912,\n",
       " 'tfidf__downvote': 0.053755216108221364,\n",
       " 'tfidf__jungle': 0.05353464257046075,\n",
       " 'tfidf__DARE YOU': 0.053518343913588375,\n",
       " 'tfidf__sans': 0.05329745904232036,\n",
       " 'tfidf__mod': 0.053283459447758856,\n",
       " 'tfidf__history': 0.05328332936090272,\n",
       " 'tfidf__diet': 0.05314906208058698,\n",
       " 'tfidf__tie': 0.05310746331538822,\n",
       " 'tfidf__seems legit': 0.05310373509730799,\n",
       " 'tfidf__lebron': 0.053045184983684754,\n",
       " 'tfidf__kicked': 0.05302584815337096,\n",
       " 'tfidf__skyrim': 0.053016295143909126,\n",
       " 'tfidf__impressed': 0.05301176734975168,\n",
       " 'tfidf__finally': 0.05288455182207537,\n",
       " 'tfidf__worship': 0.052864012992312845,\n",
       " 'tfidf__hate freedom': 0.05285252762135393,\n",
       " 'tfidf__lazy': 0.05271837633621543,\n",
       " 'tfidf__ur': 0.05270281212239927,\n",
       " 'tfidf__pound': 0.05251059245086087,\n",
       " 'tfidf__game right': 0.05239135781145715,\n",
       " 'tfidf__come!': 0.052341185176565996,\n",
       " 'tfidf__surprise!': 0.052149285784634854,\n",
       " 'tfidf__gene': 0.052140377926452826,\n",
       " 'tfidf__right right': 0.05211079009598002,\n",
       " 'tfidf__DA': 0.05210709663530917,\n",
       " 'tfidf__poser': 0.05208404888945433,\n",
       " 'tfidf__ted': 0.05204802738816055,\n",
       " 'tfidf__stole': 0.05204611263723606,\n",
       " 'tfidf__debate': 0.052037827369615104,\n",
       " 'tfidf__climate change': 0.051979326720437674,\n",
       " 'tfidf__community': 0.05195543664459324,\n",
       " 'tfidf__I missed': 0.05194390028646961,\n",
       " 'tfidf__worthless': 0.05185860178089453,\n",
       " 'tfidf__entertaining': 0.051857644342056974,\n",
       " 'tfidf__renamed': 0.05181942108401221,\n",
       " 'tfidf__brave': 0.051718873249763146,\n",
       " 'tfidf__sexist!': 0.05168514805689073,\n",
       " 'tfidf__possession': 0.05163124545794398,\n",
       " 'tfidf__harass': 0.05159964705591429,\n",
       " 'tfidf__america': 0.05158527008228298,\n",
       " 'tfidf__least go': 0.051504014592336285,\n",
       " 'tfidf__NO': 0.051499484111655565,\n",
       " 'tfidf__convincing': 0.05149868477908256,\n",
       " 'tfidf__ofc': 0.05138386028763994,\n",
       " 'tfidf__good call': 0.051262576783802125,\n",
       " 'tfidf__\"thugs\"': 0.051213276393178256,\n",
       " 'tfidf__blaming': 0.05116064680436931,\n",
       " 'tfidf__turn': 0.05108877233592102,\n",
       " 'tfidf__mate': 0.05107960611024221,\n",
       " 'tfidf__killed': 0.0510755278249503,\n",
       " 'tfidf__entitled': 0.05105629986980424,\n",
       " 'tfidf__material': 0.050899066172474396,\n",
       " 'tfidf__raping': 0.05088238316825317,\n",
       " 'tfidf__like word': 0.050860937800434325,\n",
       " 'tfidf__right like': 0.05084745876330478,\n",
       " 'tfidf__encourage': 0.05081896483277717,\n",
       " 'tfidf__oh yes': 0.050812112983904284,\n",
       " 'tfidf__bringing': 0.05080320077548928,\n",
       " 'tfidf__play like': 0.05079700789023018,\n",
       " 'tfidf__educate': 0.05076562747069445,\n",
       " 'tfidf__discussion': 0.0507237130137727,\n",
       " 'tfidf__UKIP': 0.050688453408420375,\n",
       " 'tfidf__election': 0.05059136412533962,\n",
       " 'tfidf__government!': 0.050559768922105806,\n",
       " 'tfidf__trustworthy': 0.050536197787689335,\n",
       " 'tfidf__communist': 0.05052481713877733,\n",
       " 'tfidf__command': 0.05049849439132738,\n",
       " 'tfidf__afford': 0.050495214936296634,\n",
       " 'tfidf__tom brady': 0.05047799220174964,\n",
       " 'tfidf__wa playing': 0.0504670235138628,\n",
       " 'tfidf__GOP': 0.0503850198411003,\n",
       " 'tfidf__social': 0.05030997354645512,\n",
       " 'tfidf__cant make': 0.05030353081633259,\n",
       " 'tfidf__1080p': 0.05026314298456215,\n",
       " 'tfidf__thats simple': 0.050227524295926085,\n",
       " 'tfidf__triggered': 0.050222403122439495,\n",
       " 'tfidf__two week': 0.05016971531006301,\n",
       " 'tfidf__air': 0.050128411494562125,\n",
       " 'tfidf__BMW': 0.05012274306308502,\n",
       " 'tfidf__play game': 0.04999237794730627,\n",
       " 'tfidf__fun party': 0.04995746303158896,\n",
       " 'tfidf__officer': 0.04992780287244353,\n",
       " 'tfidf__punished': 0.04990566690316996,\n",
       " 'tfidf__would ever': 0.049895829621235635,\n",
       " 'tfidf__never lie': 0.049868273842289854,\n",
       " 'tfidf__would tell': 0.04984527704675794,\n",
       " 'tfidf__I shocked': 0.04982404881032222,\n",
       " 'tfidf__5th': 0.049786771615657886,\n",
       " 'tfidf__thin privilege': 0.04964690518786597,\n",
       " 'tfidf__je': 0.04963460667064689,\n",
       " 'tfidf__canadian': 0.04945473251652505,\n",
       " 'tfidf__people never': 0.04944551434214592,\n",
       " 'tfidf__calm': 0.04932162241958535,\n",
       " 'tfidf__russell': 0.04928160360395705,\n",
       " 'tfidf__clothing': 0.04917699771727035,\n",
       " 'tfidf__economic': 0.04906426521615471,\n",
       " 'tfidf__tit': 0.04904287760571606,\n",
       " 'tfidf__kick': 0.04902713524541752,\n",
       " 'tfidf__oooh': 0.04896099852872349,\n",
       " 'tfidf__warrior': 0.048952885978539265,\n",
       " 'tfidf__autism': 0.04894644511279455,\n",
       " 'tfidf__old people': 0.048923135435735315,\n",
       " 'tfidf__woman dont': 0.04891599706212946,\n",
       " 'tfidf__sexual': 0.048874693391276126,\n",
       " 'tfidf__fr': 0.04885710291154366,\n",
       " 'tfidf__woah woah': 0.048844239994431375,\n",
       " 'tfidf__one could': 0.04882700529183707,\n",
       " 'tfidf__edit apparently': 0.04882504301601793,\n",
       " 'tfidf__letting': 0.04881587205984643,\n",
       " 'tfidf__really put': 0.04877934205807974,\n",
       " 'tfidf__30fps': 0.04870211295008021,\n",
       " 'tfidf__CLG': 0.04863228369430207,\n",
       " 'tfidf__didnt get': 0.04857554422664105,\n",
       " 'tfidf__paid': 0.04857323000993179,\n",
       " 'tfidf__horrible': 0.048486021011436974,\n",
       " 'tfidf__creepy': 0.048456340431567844,\n",
       " 'tfidf__bug': 0.04841565902836676,\n",
       " 'tfidf__nu': 0.048372819922044855,\n",
       " 'tfidf__spying': 0.0483688641609479,\n",
       " 'tfidf__died': 0.048364219921954665,\n",
       " 'tfidf__shill': 0.04835639832610072,\n",
       " 'tfidf__CEO': 0.048343362457843625,\n",
       " 'tfidf__POC': 0.048340838447605596,\n",
       " 'tfidf__acting': 0.04833277025999019,\n",
       " 'tfidf__passing': 0.04833239254708037,\n",
       " 'tfidf__typing': 0.04832974457539034,\n",
       " 'tfidf__dont watch': 0.04829318785487124,\n",
       " 'tfidf__I may': 0.048273111531954724,\n",
       " 'tfidf__NHS': 0.04826943779794647,\n",
       " 'tfidf__best team': 0.04824578850710639,\n",
       " 'tfidf__linux': 0.048222035756268024,\n",
       " 'tfidf__sono': 0.04820186797161157,\n",
       " 'tfidf__time play': 0.048158268726740894,\n",
       " 'tfidf__ja': 0.04813803861193431,\n",
       " 'tfidf__comic sans': 0.04813246436906977,\n",
       " 'tfidf__RB': 0.048104821505233056,\n",
       " 'tfidf__glorious': 0.04810309522527679,\n",
       " 'tfidf__eating': 0.048044249246925096,\n",
       " 'tfidf__health': 0.048021162617197806,\n",
       " 'tfidf__dont count': 0.047963858618571185,\n",
       " 'tfidf__autocorrect': 0.047933445662535386,\n",
       " 'tfidf__I added': 0.047922837795006196,\n",
       " 'tfidf__thats theyre': 0.0478788244204194,\n",
       " 'tfidf__wow great': 0.047864587281620095,\n",
       " 'tfidf__slavery': 0.04785518290365469,\n",
       " 'tfidf__capitalist': 0.04768166792181521,\n",
       " 'tfidf__plastic': 0.047616487884347844,\n",
       " 'tfidf__legitimate': 0.04751371852213207,\n",
       " 'tfidf__replay': 0.047489886378096945,\n",
       " 'tfidf__rank': 0.047472246604709806,\n",
       " 'tfidf__woman like': 0.04747164220361311,\n",
       " 'tfidf__whoa': 0.04745033100246886,\n",
       " 'tfidf__crazy!': 0.047374008691921224,\n",
       " 'tfidf__SRS': 0.047278064896096865,\n",
       " 'tfidf__wa supposed': 0.04722491120691421,\n",
       " 'tfidf__labeled': 0.047210053081366464,\n",
       " 'tfidf__yes one': 0.04717204039256845,\n",
       " 'tfidf__oppress': 0.04715861030923584,\n",
       " 'tfidf__fat people': 0.0471580915598198,\n",
       " 'tfidf__steve': 0.04705257778749151,\n",
       " 'tfidf__lol forgot': 0.04697903940658785,\n",
       " 'tfidf__bleach': 0.04697058022900912,\n",
       " 'tfidf__belong': 0.04689577349324326,\n",
       " 'tfidf__warning': 0.046859841206055505,\n",
       " 'tfidf__like steve': 0.04681499295008018,\n",
       " 'tfidf__sin': 0.0467962129039402,\n",
       " 'tfidf__sa': 0.04675962282635962,\n",
       " 'tfidf__slave': 0.04664989987581036,\n",
       " 'tfidf__cant tell': 0.04660992289318681,\n",
       " 'tfidf__funding': 0.0466062073792172,\n",
       " 'tfidf__panty': 0.046595139467037194,\n",
       " 'tfidf__theyre gonna': 0.04658545875707438,\n",
       " 'tfidf__I dunno': 0.04657139019077197,\n",
       " 'tfidf__credible': 0.04656377641039191,\n",
       " 'tfidf__come guy': 0.04654185093281111,\n",
       " 'tfidf__love game': 0.04653902603557278,\n",
       " 'tfidf__ted cruz': 0.04653557912811738,\n",
       " 'tfidf__based': 0.046508806473007876,\n",
       " 'tfidf__I hear': 0.04650083962202262,\n",
       " 'tfidf__topic': 0.0464876519983743,\n",
       " 'tfidf__burn': 0.04641574237989866,\n",
       " 'tfidf__act': 0.046402258106596365,\n",
       " 'tfidf__clarification': 0.0463813665724817,\n",
       " 'tfidf__panic': 0.046354635843379656,\n",
       " 'tfidf__cheater': 0.04635322949402341,\n",
       " 'tfidf__denial': 0.04634368621055922,\n",
       " 'tfidf__billionaire': 0.04633957039481647,\n",
       " 'tfidf__er': 0.04633291676639727,\n",
       " 'tfidf__\"ish\"': 0.04625888416988102,\n",
       " 'tfidf__88': 0.04625888416988102,\n",
       " 'tfidf__MUGEN!': 0.04625888416988102,\n",
       " 'tfidf__SKILL!!!': 0.04625888416988102,\n",
       " 'tfidf__annoying!': 0.04625888416988102,\n",
       " 'tfidf__be!!!': 0.04625888416988102,\n",
       " 'tfidf__camus': 0.04625888416988102,\n",
       " 'tfidf__diver': 0.04625888416988102,\n",
       " 'tfidf__footstool': 0.04625888416988102,\n",
       " 'tfidf__innocent!': 0.04625888416988102,\n",
       " 'tfidf__msbob!': 0.04625888416988102,\n",
       " 'tfidf__natural!': 0.04625888416988102,\n",
       " 'tfidf__omitted': 0.04625888416988102,\n",
       " 'tfidf__pughydude': 0.04625888416988102,\n",
       " 'tfidf__refs!': 0.04625888416988102,\n",
       " 'tfidf__selfie': 0.04625888416988102,\n",
       " 'tfidf__reasonable': 0.04624039664626014,\n",
       " 'tfidf__well thought': 0.046168547318664446,\n",
       " 'tfidf__non': 0.046140100576996156,\n",
       " 'tfidf__11': 0.046138316466866655,\n",
       " 'tfidf__mode': 0.04609459560899269,\n",
       " 'tfidf__oblivion': 0.046018144767690665,\n",
       " 'tfidf__army': 0.04600586454461737,\n",
       " 'tfidf__evidence': 0.04591746006446641,\n",
       " 'tfidf__whoop forgot': 0.045909083929194065,\n",
       " 'tfidf__george': 0.04590872960487513,\n",
       " 'tfidf__bet youre': 0.045904183141661586,\n",
       " 'tfidf__rigged': 0.045889110002899934,\n",
       " 'tfidf__im impressed': 0.045884118314345496,\n",
       " 'tfidf__I told': 0.04588087203559058,\n",
       " 'tfidf__trash': 0.045862412104578566,\n",
       " 'tfidf__effective': 0.045856279416467235,\n",
       " 'tfidf__thanks clarification': 0.04581515077378075,\n",
       " 'tfidf__000 000': 0.0458141951772632,\n",
       " 'tfidf__away!': 0.0458064007441788,\n",
       " 'tfidf__internet!': 0.04577739097797864,\n",
       " 'tfidf__sander': 0.04575752302587539,\n",
       " 'tfidf__like real': 0.04574070346376295,\n",
       " 'tfidf__junk': 0.0457248554503727,\n",
       " 'tfidf__bring': 0.0456918273413889,\n",
       " 'tfidf__hillary': 0.045681125295710945,\n",
       " 'tfidf__radar': 0.04566691501647328,\n",
       " 'tfidf__AMD': 0.045581427913219494,\n",
       " 'tfidf__would done': 0.04552412147109735,\n",
       " 'tfidf__wrong though': 0.045488924143987745,\n",
       " 'tfidf__ammo': 0.04548646247441407,\n",
       " 'tfidf__offended': 0.04545201870282881,\n",
       " 'tfidf__anti': 0.045451465157402914,\n",
       " 'tfidf__cant raped': 0.0454363543675684,\n",
       " 'tfidf__mental health': 0.04539503731546649,\n",
       " 'tfidf__save': 0.04535732539783231,\n",
       " 'tfidf__destroying': 0.045233844392952215,\n",
       " 'tfidf__insightful': 0.04522471390940621,\n",
       " 'tfidf__repost I': 0.045160186073124914,\n",
       " 'tfidf__hawk': 0.04513163540174532,\n",
       " 'tfidf__power': 0.04512462631141651,\n",
       " 'tfidf__allowed!': 0.04511238571578588,\n",
       " 'tfidf__eye cant': 0.04502591722925553,\n",
       " 'tfidf__libertarian': 0.04498662163397723,\n",
       " 'tfidf__mastermind': 0.04495996361247382,\n",
       " 'tfidf__like someone': 0.04489580578814902,\n",
       " 'tfidf__obviously ha': 0.04486621556940829,\n",
       " 'tfidf__qualified': 0.04485965618886219,\n",
       " 'tfidf__islamic': 0.04484169799126473,\n",
       " 'tfidf__perfectly': 0.04476409728150942,\n",
       " 'tfidf__TB': 0.0447465787637954,\n",
       " 'tfidf__carrying': 0.04471169423872888,\n",
       " 'tfidf__really going': 0.04459138762450629,\n",
       " 'tfidf__homosexual': 0.04457690358883127,\n",
       " 'tfidf__show!': 0.04456216339092263,\n",
       " 'tfidf__crazy': 0.044561192198013605,\n",
       " 'tfidf__normal!': 0.04450876878794111,\n",
       " 'tfidf__creative': 0.04444401253107311,\n",
       " 'tfidf__like great': 0.044426468261820055,\n",
       " 'tfidf__link karma': 0.04442454941452109,\n",
       " 'tfidf__edit didnt': 0.04440826564101879,\n",
       " 'tfidf__ah yes': 0.044397646009354426,\n",
       " 'tfidf__long doesnt': 0.044383968449287145,\n",
       " 'tfidf__security': 0.04436555413722158,\n",
       " 'tfidf__people love': 0.04433508670062649,\n",
       " 'tfidf__shaming': 0.04428992093111438,\n",
       " 'tfidf__independent': 0.044224429721688004,\n",
       " 'tfidf__winning': 0.04419902383560472,\n",
       " 'tfidf__unaware': 0.04418886942368913,\n",
       " 'tfidf__great idea': 0.04416529007804375,\n",
       " 'tfidf__nice try': 0.04415317421883569,\n",
       " 'tfidf__MY': 0.04414260143621118,\n",
       " 'tfidf__boxing match': 0.04411383871877518,\n",
       " 'tfidf__wa sarcasm': 0.04410102421204358,\n",
       " 'tfidf__acceptable': 0.04409025329015203,\n",
       " 'tfidf__reported': 0.044060141321991465,\n",
       " 'tfidf__youre literally': 0.04402906238156207,\n",
       " 'tfidf__serious sarcastic': 0.044005249918460346,\n",
       " 'tfidf__ruined': 0.04399472010517606,\n",
       " 'tfidf__loser': 0.04398379904492397,\n",
       " 'tfidf__trying find': 0.04397201515991975,\n",
       " 'tfidf__wa point': 0.04396562362486958,\n",
       " 'tfidf__blow': 0.04394946576340891,\n",
       " 'tfidf__whoever': 0.043891495628046145,\n",
       " 'tfidf__dick': 0.04388891873462808,\n",
       " 'tfidf__wa quick': 0.043856133393788195,\n",
       " 'tfidf__golem': 0.04384502326598445,\n",
       " 'tfidf__outdated': 0.04382686331677315,\n",
       " 'tfidf__stand serious': 0.04377486988065334,\n",
       " 'tfidf__intentionally': 0.04371103925022382,\n",
       " 'tfidf__gaijin': 0.04370929306873926,\n",
       " 'tfidf__shield': 0.043703983404812956,\n",
       " 'tfidf__secret': 0.043668366361890476,\n",
       " 'tfidf__sheeple!': 0.043628759518785684,\n",
       " 'tfidf__wake sheeple!': 0.043628759518785684,\n",
       " 'tfidf__continue': 0.043576390007052726,\n",
       " 'tfidf__correctness': 0.04357041608630522,\n",
       " 'tfidf__whedon': 0.043550706019131,\n",
       " 'tfidf__seed': 0.04353498789568448,\n",
       " 'tfidf__talking': 0.043533048826383834,\n",
       " 'tfidf__greece': 0.04350374045312738,\n",
       " 'tfidf__think everyone': 0.04349683342491766,\n",
       " 'tfidf__putting': 0.043451011117817906,\n",
       " 'tfidf__vagina': 0.04341881913838316,\n",
       " 'tfidf__allowed make': 0.04338708023280406,\n",
       " 'tfidf__penalty': 0.04337708654269825,\n",
       " 'tfidf__criminal': 0.0433639999315031,\n",
       " 'tfidf__lied': 0.04335544462019906,\n",
       " 'tfidf__hitler wa': 0.04329417992068464,\n",
       " 'tfidf__may well': 0.043054319449767293,\n",
       " 'tfidf__dont tell': 0.04305347893817074,\n",
       " 'tfidf__shutout': 0.04295331664380384,\n",
       " 'tfidf__sponsored': 0.04293344438934242,\n",
       " 'tfidf__citizen': 0.042855643418311336,\n",
       " 'tfidf__pedophile': 0.04284087576986834,\n",
       " 'tfidf__truth': 0.04283832572062432,\n",
       " 'tfidf__farmer': 0.04283467018382175,\n",
       " 'tfidf__liberal': 0.04283086108722981,\n",
       " 'tfidf__what!': 0.042771167000808484,\n",
       " 'tfidf__iraqi': 0.04276724739749177,\n",
       " 'tfidf__GREAT': 0.04274646159292159,\n",
       " 'tfidf__consent': 0.042740697276677085,\n",
       " 'tfidf__totally different': 0.04273834278188655,\n",
       " 'tfidf__offline': 0.04273264539539838,\n",
       " 'tfidf__texas': 0.04272821034115197,\n",
       " 'tfidf__MRA': 0.04263348794296113,\n",
       " 'tfidf__must mean': 0.04261309028213476,\n",
       " 'tfidf__CONSPIRACY': 0.04258798920725607,\n",
       " 'tfidf__patriarchy!': 0.04253945126265914,\n",
       " 'tfidf__e': 0.042526232669144626,\n",
       " 'tfidf__independence': 0.04251995254670342,\n",
       " 'tfidf__gt people': 0.042501973665715224,\n",
       " 'tfidf__NHL': 0.04247605213051086,\n",
       " 'tfidf__foreigner': 0.04244075863036423,\n",
       " 'tfidf__wild fan': 0.042428374384876164,\n",
       " 'tfidf__love guy': 0.04242345884796349,\n",
       " 'tfidf__theyre going': 0.042414342545606463,\n",
       " 'tfidf__respectable': 0.04239968929523386,\n",
       " 'tfidf__santorin': 0.042391468125225595,\n",
       " 'tfidf__cod': 0.042387247315396205,\n",
       " 'tfidf__even lift': 0.04238389007411653,\n",
       " 'tfidf__lift bro': 0.04238389007411653,\n",
       " 'tfidf__cant believe': 0.04235292625463928,\n",
       " 'tfidf__eats': 0.04232409548928768,\n",
       " 'tfidf__sure doe': 0.04229533754025187,\n",
       " 'tfidf__would know': 0.0422949161847466,\n",
       " 'tfidf__yeah sure': 0.0422332860631444,\n",
       " 'tfidf__I year': 0.04222861268978397,\n",
       " 'tfidf__totally believe': 0.04221498185042712,\n",
       " 'tfidf__thats like': 0.042210700134230277,\n",
       " 'tfidf__hurray': 0.04220326759369538,\n",
       " 'tfidf__u good': 0.04219452717617057,\n",
       " 'tfidf__c': 0.04214175519463972,\n",
       " 'tfidf__make fun': 0.042108556773861036,\n",
       " 'tfidf__couldnt possibly': 0.04209660985664912,\n",
       " 'tfidf__thats reason': 0.042033562657028976,\n",
       " 'tfidf__drama': 0.042015756133508685,\n",
       " 'tfidf__upset': 0.04196796796183575,\n",
       " 'tfidf__cant see': 0.041967248630868245,\n",
       " 'tfidf__internal': 0.041939350478062395,\n",
       " 'tfidf__nashville': 0.04190561494627373,\n",
       " 'tfidf__anyone say': 0.04189152555743563,\n",
       " 'tfidf__doesnt count': 0.04187200949776757,\n",
       " 'tfidf__PPG': 0.04185734524470152,\n",
       " 'tfidf__mai': 0.04184471135610463,\n",
       " 'tfidf__underdog': 0.0418211317495605,\n",
       " 'tfidf__well thats': 0.0418086331837024,\n",
       " 'tfidf__proud': 0.04179958032817175,\n",
       " 'tfidf__gamer': 0.04178514649164938,\n",
       " 'tfidf__banning': 0.0417713417866703,\n",
       " 'tfidf__captured debaltseve': 0.041714261855741765,\n",
       " 'tfidf__debaltseve': 0.041714261855741765,\n",
       " 'tfidf__enlightened': 0.04170258545134522,\n",
       " 'tfidf__ITT': 0.04169767699061675,\n",
       " 'tfidf__I right': 0.04167408636623985,\n",
       " 'tfidf__obviously better': 0.04167314171399586,\n",
       " 'tfidf__take time': 0.04167184259674952,\n",
       " 'tfidf__pet': 0.04166843017932972,\n",
       " 'tfidf__pregnant': 0.04165096926280426,\n",
       " 'tfidf__protect': 0.04164562940598271,\n",
       " 'tfidf__arent allowed': 0.04162815665601893,\n",
       " 'tfidf__ask question': 0.04160659122603929,\n",
       " 'tfidf__time like': 0.041603724484022234,\n",
       " 'tfidf__corruption': 0.04159831518540775,\n",
       " 'tfidf__arun': 0.041588231917488235,\n",
       " 'tfidf__arun shourie': 0.041588231917488235,\n",
       " 'tfidf__pray': 0.04156674683227047,\n",
       " 'tfidf__cant victim': 0.04155200962477235,\n",
       " 'tfidf__happen often': 0.04148221395634872,\n",
       " 'tfidf__infection': 0.04146965393085211,\n",
       " 'tfidf__bitcoin': 0.041413097663370875,\n",
       " 'tfidf__well least': 0.041339544114899235,\n",
       " 'tfidf__naruto': 0.04132185431018781,\n",
       " 'tfidf__thats use': 0.04131308825747173,\n",
       " 'tfidf__peace': 0.04129543073905544,\n",
       " 'tfidf__right one': 0.041266227837061645,\n",
       " 'tfidf__bootstrap': 0.04123826620299127,\n",
       " 'tfidf__60fps': 0.04122900252968321,\n",
       " 'tfidf__give u': 0.04121959579020113,\n",
       " 'tfidf__man thats': 0.04117963540576558,\n",
       " 'tfidf__I labeled': 0.041147030723934656,\n",
       " 'tfidf__THATS': 0.04107048456591717,\n",
       " 'tfidf__signal': 0.0409685276211996,\n",
       " 'tfidf__oh no!': 0.04096088576230285,\n",
       " 'tfidf__protecting': 0.040945835431295596,\n",
       " 'tfidf__would anything': 0.040925409871419086,\n",
       " 'tfidf__victim blaming': 0.040882829431475635,\n",
       " 'tfidf__africa': 0.04086988417801908,\n",
       " 'tfidf__know talking': 0.04086507456754674,\n",
       " 'tfidf__up!': 0.040831739249722394,\n",
       " ...}"
      ]
     },
     "execution_count": 1234,
     "metadata": {},
     "output_type": "execute_result"
    }
   ],
   "source": [
    "feature_dictionary"
   ]
  },
  {
   "cell_type": "code",
   "execution_count": 1247,
   "metadata": {},
   "outputs": [
    {
     "data": {
      "text/plain": [
       "0.6494081884548295"
      ]
     },
     "execution_count": 1247,
     "metadata": {},
     "output_type": "execute_result"
    }
   ],
   "source": [
    "roc_auc_score(y_true=Y_test,y_score=pipeLine_all_features_logistic_regression.predict(X_test))"
   ]
  },
  {
   "cell_type": "code",
   "execution_count": null,
   "metadata": {},
   "outputs": [],
   "source": []
  }
 ],
 "metadata": {
  "kernelspec": {
   "display_name": "Python 3",
   "language": "python",
   "name": "python3"
  },
  "language_info": {
   "codemirror_mode": {
    "name": "ipython",
    "version": 3
   },
   "file_extension": ".py",
   "mimetype": "text/x-python",
   "name": "python",
   "nbconvert_exporter": "python",
   "pygments_lexer": "ipython3",
   "version": "3.6.4"
  }
 },
 "nbformat": 4,
 "nbformat_minor": 2
}
